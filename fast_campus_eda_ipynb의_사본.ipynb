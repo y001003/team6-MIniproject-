{
  "nbformat": 4,
  "nbformat_minor": 0,
  "metadata": {
    "colab": {
      "name": "fast_campus_eda.ipynb의 사본",
      "provenance": [],
      "collapsed_sections": []
    },
    "kernelspec": {
      "name": "python3",
      "display_name": "Python 3"
    },
    "language_info": {
      "name": "python"
    }
  },
  "cells": [
    {
      "cell_type": "code",
      "execution_count": 1,
      "metadata": {
        "id": "PcG2WICCbw9w"
      },
      "outputs": [],
      "source": [
        "import pandas as pd\n",
        "import numpy as np\n",
        "import matplotlib.pyplot as plt\n",
        "import seaborn as sns"
      ]
    },
    {
      "cell_type": "code",
      "source": [
        "from google.colab import drive\n",
        "drive.mount('/content/drive')"
      ],
      "metadata": {
        "colab": {
          "base_uri": "https://localhost:8080/"
        },
        "id": "mZujilM7fSm0",
        "outputId": "7d9d58d8-3ba3-4e57-d92c-fa86f511de45"
      },
      "execution_count": 2,
      "outputs": [
        {
          "output_type": "stream",
          "name": "stdout",
          "text": [
            "Drive already mounted at /content/drive; to attempt to forcibly remount, call drive.mount(\"/content/drive\", force_remount=True).\n"
          ]
        }
      ]
    },
    {
      "cell_type": "code",
      "source": [
        "# 코랩\n",
        "!sudo apt-get install -y fonts-nanum\n",
        "!sudo fc-cache -fv\n",
        "!rm ~/.cache/matplotlib -rf\n",
        "# 런타임 재시작\n",
        "plt.rc('font', family='NanumBarunGothic')"
      ],
      "metadata": {
        "colab": {
          "base_uri": "https://localhost:8080/"
        },
        "id": "S6DY3zCUS7G5",
        "outputId": "aff87efb-fd0d-4447-c589-d833f1cc2014"
      },
      "execution_count": 3,
      "outputs": [
        {
          "output_type": "stream",
          "name": "stdout",
          "text": [
            "Reading package lists... Done\n",
            "Building dependency tree       \n",
            "Reading state information... Done\n",
            "fonts-nanum is already the newest version (20170925-1).\n",
            "The following packages were automatically installed and are no longer required:\n",
            "  libnvidia-common-460 nsight-compute-2020.2.0\n",
            "Use 'sudo apt autoremove' to remove them.\n",
            "0 upgraded, 0 newly installed, 0 to remove and 42 not upgraded.\n",
            "/usr/share/fonts: caching, new cache contents: 0 fonts, 1 dirs\n",
            "/usr/share/fonts/truetype: caching, new cache contents: 0 fonts, 3 dirs\n",
            "/usr/share/fonts/truetype/humor-sans: caching, new cache contents: 1 fonts, 0 dirs\n",
            "/usr/share/fonts/truetype/liberation: caching, new cache contents: 16 fonts, 0 dirs\n",
            "/usr/share/fonts/truetype/nanum: caching, new cache contents: 10 fonts, 0 dirs\n",
            "/usr/local/share/fonts: caching, new cache contents: 0 fonts, 0 dirs\n",
            "/root/.local/share/fonts: skipping, no such directory\n",
            "/root/.fonts: skipping, no such directory\n",
            "/var/cache/fontconfig: cleaning cache directory\n",
            "/root/.cache/fontconfig: not cleaning non-existent cache directory\n",
            "/root/.fontconfig: not cleaning non-existent cache directory\n",
            "fc-cache: succeeded\n"
          ]
        }
      ]
    },
    {
      "cell_type": "code",
      "source": [
        "url = '/content/drive/MyDrive/Colab Notebooks/파이널프로젝트_RAW_210329_210926.csv'\n",
        "data = pd.read_csv(url)\n",
        "df = pd.DataFrame(data)\n",
        "df.head()"
      ],
      "metadata": {
        "colab": {
          "base_uri": "https://localhost:8080/",
          "height": 461
        },
        "id": "QljaUWntb45o",
        "outputId": "f89ff16d-dcad-4c3d-853a-8786e11afb55"
      },
      "execution_count": 4,
      "outputs": [
        {
          "output_type": "execute_result",
          "data": {
            "text/plain": [
              "   Unnamed: 0      id  customer_id  course_id     type      state  \\\n",
              "0           0  970634     504760.0   201435.0    ORDER  CANCELLED   \n",
              "1           1  970650     432862.0   203178.0    ORDER  CANCELLED   \n",
              "2           2  970657      72297.0   204246.0  PAYMENT  COMPLETED   \n",
              "3           3  970656      72297.0   204246.0    ORDER  CANCELLED   \n",
              "4           4  970658     478028.0   201797.0  PAYMENT  COMPLETED   \n",
              "\n",
              "                    course_title category_title  format         completed_at  \\\n",
              "0      올인원 패키지 : 알고리즘 기술면접 완전 정복          프로그래밍     올인원  2021-03-28 15:00:11   \n",
              "1    초격차 패키지 : 한번에 끝내는 영상 촬영과 편집          영상/3D     올인원  2021-03-28 15:16:53   \n",
              "2           시크릿코드 : 프론트엔드 실무 완성편          프로그래밍  스쿨 온라인  2021-03-28 15:21:43   \n",
              "3           시크릿코드 : 프론트엔드 실무 완성편          프로그래밍  스쿨 온라인  2021-03-28 15:21:43   \n",
              "4  올인원 패키지 : 직장인 필수 스킬 3종 세트 MAX         업무 생산성     올인원  2021-03-28 15:21:54   \n",
              "\n",
              "   transaction_amount              coupon_title  coupon_discount_amount  \\\n",
              "0               90500                       NaN                     NaN   \n",
              "1               96000                       NaN                     NaN   \n",
              "2              171810     [10% 할인] 시크릿코드 실무 완성편                 19090.0   \n",
              "3              171810                       NaN                     NaN   \n",
              "4               97500  [웰컴쿠폰] 올인원 패키지 2만원 할인 쿠폰                 20000.0   \n",
              "\n",
              "   sale_price  tax_free_amount   pg method subcategory_title  \\\n",
              "0    110500.0         110500.0  NaN  VBANK           개발자 커리어   \n",
              "1    116000.0         116000.0  NaN   CARD             영상 편집   \n",
              "2    190900.0         190900.0  NaN   CARD               NaN   \n",
              "3    190900.0         190900.0  NaN   CARD               NaN   \n",
              "4    117500.0         117500.0  NaN   CARD           PPT/보고서   \n",
              "\n",
              "    marketing_start_at  \n",
              "0                  NaN  \n",
              "1  2020-12-02 00:00:00  \n",
              "2  2021-03-04 00:00:00  \n",
              "3  2021-03-04 00:00:00  \n",
              "4  2019-11-14 00:00:00  "
            ],
            "text/html": [
              "\n",
              "  <div id=\"df-7650365b-97e3-41d1-a4e6-d466a2bf7260\">\n",
              "    <div class=\"colab-df-container\">\n",
              "      <div>\n",
              "<style scoped>\n",
              "    .dataframe tbody tr th:only-of-type {\n",
              "        vertical-align: middle;\n",
              "    }\n",
              "\n",
              "    .dataframe tbody tr th {\n",
              "        vertical-align: top;\n",
              "    }\n",
              "\n",
              "    .dataframe thead th {\n",
              "        text-align: right;\n",
              "    }\n",
              "</style>\n",
              "<table border=\"1\" class=\"dataframe\">\n",
              "  <thead>\n",
              "    <tr style=\"text-align: right;\">\n",
              "      <th></th>\n",
              "      <th>Unnamed: 0</th>\n",
              "      <th>id</th>\n",
              "      <th>customer_id</th>\n",
              "      <th>course_id</th>\n",
              "      <th>type</th>\n",
              "      <th>state</th>\n",
              "      <th>course_title</th>\n",
              "      <th>category_title</th>\n",
              "      <th>format</th>\n",
              "      <th>completed_at</th>\n",
              "      <th>transaction_amount</th>\n",
              "      <th>coupon_title</th>\n",
              "      <th>coupon_discount_amount</th>\n",
              "      <th>sale_price</th>\n",
              "      <th>tax_free_amount</th>\n",
              "      <th>pg</th>\n",
              "      <th>method</th>\n",
              "      <th>subcategory_title</th>\n",
              "      <th>marketing_start_at</th>\n",
              "    </tr>\n",
              "  </thead>\n",
              "  <tbody>\n",
              "    <tr>\n",
              "      <th>0</th>\n",
              "      <td>0</td>\n",
              "      <td>970634</td>\n",
              "      <td>504760.0</td>\n",
              "      <td>201435.0</td>\n",
              "      <td>ORDER</td>\n",
              "      <td>CANCELLED</td>\n",
              "      <td>올인원 패키지 : 알고리즘 기술면접 완전 정복</td>\n",
              "      <td>프로그래밍</td>\n",
              "      <td>올인원</td>\n",
              "      <td>2021-03-28 15:00:11</td>\n",
              "      <td>90500</td>\n",
              "      <td>NaN</td>\n",
              "      <td>NaN</td>\n",
              "      <td>110500.0</td>\n",
              "      <td>110500.0</td>\n",
              "      <td>NaN</td>\n",
              "      <td>VBANK</td>\n",
              "      <td>개발자 커리어</td>\n",
              "      <td>NaN</td>\n",
              "    </tr>\n",
              "    <tr>\n",
              "      <th>1</th>\n",
              "      <td>1</td>\n",
              "      <td>970650</td>\n",
              "      <td>432862.0</td>\n",
              "      <td>203178.0</td>\n",
              "      <td>ORDER</td>\n",
              "      <td>CANCELLED</td>\n",
              "      <td>초격차 패키지 : 한번에 끝내는 영상 촬영과 편집</td>\n",
              "      <td>영상/3D</td>\n",
              "      <td>올인원</td>\n",
              "      <td>2021-03-28 15:16:53</td>\n",
              "      <td>96000</td>\n",
              "      <td>NaN</td>\n",
              "      <td>NaN</td>\n",
              "      <td>116000.0</td>\n",
              "      <td>116000.0</td>\n",
              "      <td>NaN</td>\n",
              "      <td>CARD</td>\n",
              "      <td>영상 편집</td>\n",
              "      <td>2020-12-02 00:00:00</td>\n",
              "    </tr>\n",
              "    <tr>\n",
              "      <th>2</th>\n",
              "      <td>2</td>\n",
              "      <td>970657</td>\n",
              "      <td>72297.0</td>\n",
              "      <td>204246.0</td>\n",
              "      <td>PAYMENT</td>\n",
              "      <td>COMPLETED</td>\n",
              "      <td>시크릿코드 : 프론트엔드 실무 완성편</td>\n",
              "      <td>프로그래밍</td>\n",
              "      <td>스쿨 온라인</td>\n",
              "      <td>2021-03-28 15:21:43</td>\n",
              "      <td>171810</td>\n",
              "      <td>[10% 할인] 시크릿코드 실무 완성편</td>\n",
              "      <td>19090.0</td>\n",
              "      <td>190900.0</td>\n",
              "      <td>190900.0</td>\n",
              "      <td>NaN</td>\n",
              "      <td>CARD</td>\n",
              "      <td>NaN</td>\n",
              "      <td>2021-03-04 00:00:00</td>\n",
              "    </tr>\n",
              "    <tr>\n",
              "      <th>3</th>\n",
              "      <td>3</td>\n",
              "      <td>970656</td>\n",
              "      <td>72297.0</td>\n",
              "      <td>204246.0</td>\n",
              "      <td>ORDER</td>\n",
              "      <td>CANCELLED</td>\n",
              "      <td>시크릿코드 : 프론트엔드 실무 완성편</td>\n",
              "      <td>프로그래밍</td>\n",
              "      <td>스쿨 온라인</td>\n",
              "      <td>2021-03-28 15:21:43</td>\n",
              "      <td>171810</td>\n",
              "      <td>NaN</td>\n",
              "      <td>NaN</td>\n",
              "      <td>190900.0</td>\n",
              "      <td>190900.0</td>\n",
              "      <td>NaN</td>\n",
              "      <td>CARD</td>\n",
              "      <td>NaN</td>\n",
              "      <td>2021-03-04 00:00:00</td>\n",
              "    </tr>\n",
              "    <tr>\n",
              "      <th>4</th>\n",
              "      <td>4</td>\n",
              "      <td>970658</td>\n",
              "      <td>478028.0</td>\n",
              "      <td>201797.0</td>\n",
              "      <td>PAYMENT</td>\n",
              "      <td>COMPLETED</td>\n",
              "      <td>올인원 패키지 : 직장인 필수 스킬 3종 세트 MAX</td>\n",
              "      <td>업무 생산성</td>\n",
              "      <td>올인원</td>\n",
              "      <td>2021-03-28 15:21:54</td>\n",
              "      <td>97500</td>\n",
              "      <td>[웰컴쿠폰] 올인원 패키지 2만원 할인 쿠폰</td>\n",
              "      <td>20000.0</td>\n",
              "      <td>117500.0</td>\n",
              "      <td>117500.0</td>\n",
              "      <td>NaN</td>\n",
              "      <td>CARD</td>\n",
              "      <td>PPT/보고서</td>\n",
              "      <td>2019-11-14 00:00:00</td>\n",
              "    </tr>\n",
              "  </tbody>\n",
              "</table>\n",
              "</div>\n",
              "      <button class=\"colab-df-convert\" onclick=\"convertToInteractive('df-7650365b-97e3-41d1-a4e6-d466a2bf7260')\"\n",
              "              title=\"Convert this dataframe to an interactive table.\"\n",
              "              style=\"display:none;\">\n",
              "        \n",
              "  <svg xmlns=\"http://www.w3.org/2000/svg\" height=\"24px\"viewBox=\"0 0 24 24\"\n",
              "       width=\"24px\">\n",
              "    <path d=\"M0 0h24v24H0V0z\" fill=\"none\"/>\n",
              "    <path d=\"M18.56 5.44l.94 2.06.94-2.06 2.06-.94-2.06-.94-.94-2.06-.94 2.06-2.06.94zm-11 1L8.5 8.5l.94-2.06 2.06-.94-2.06-.94L8.5 2.5l-.94 2.06-2.06.94zm10 10l.94 2.06.94-2.06 2.06-.94-2.06-.94-.94-2.06-.94 2.06-2.06.94z\"/><path d=\"M17.41 7.96l-1.37-1.37c-.4-.4-.92-.59-1.43-.59-.52 0-1.04.2-1.43.59L10.3 9.45l-7.72 7.72c-.78.78-.78 2.05 0 2.83L4 21.41c.39.39.9.59 1.41.59.51 0 1.02-.2 1.41-.59l7.78-7.78 2.81-2.81c.8-.78.8-2.07 0-2.86zM5.41 20L4 18.59l7.72-7.72 1.47 1.35L5.41 20z\"/>\n",
              "  </svg>\n",
              "      </button>\n",
              "      \n",
              "  <style>\n",
              "    .colab-df-container {\n",
              "      display:flex;\n",
              "      flex-wrap:wrap;\n",
              "      gap: 12px;\n",
              "    }\n",
              "\n",
              "    .colab-df-convert {\n",
              "      background-color: #E8F0FE;\n",
              "      border: none;\n",
              "      border-radius: 50%;\n",
              "      cursor: pointer;\n",
              "      display: none;\n",
              "      fill: #1967D2;\n",
              "      height: 32px;\n",
              "      padding: 0 0 0 0;\n",
              "      width: 32px;\n",
              "    }\n",
              "\n",
              "    .colab-df-convert:hover {\n",
              "      background-color: #E2EBFA;\n",
              "      box-shadow: 0px 1px 2px rgba(60, 64, 67, 0.3), 0px 1px 3px 1px rgba(60, 64, 67, 0.15);\n",
              "      fill: #174EA6;\n",
              "    }\n",
              "\n",
              "    [theme=dark] .colab-df-convert {\n",
              "      background-color: #3B4455;\n",
              "      fill: #D2E3FC;\n",
              "    }\n",
              "\n",
              "    [theme=dark] .colab-df-convert:hover {\n",
              "      background-color: #434B5C;\n",
              "      box-shadow: 0px 1px 3px 1px rgba(0, 0, 0, 0.15);\n",
              "      filter: drop-shadow(0px 1px 2px rgba(0, 0, 0, 0.3));\n",
              "      fill: #FFFFFF;\n",
              "    }\n",
              "  </style>\n",
              "\n",
              "      <script>\n",
              "        const buttonEl =\n",
              "          document.querySelector('#df-7650365b-97e3-41d1-a4e6-d466a2bf7260 button.colab-df-convert');\n",
              "        buttonEl.style.display =\n",
              "          google.colab.kernel.accessAllowed ? 'block' : 'none';\n",
              "\n",
              "        async function convertToInteractive(key) {\n",
              "          const element = document.querySelector('#df-7650365b-97e3-41d1-a4e6-d466a2bf7260');\n",
              "          const dataTable =\n",
              "            await google.colab.kernel.invokeFunction('convertToInteractive',\n",
              "                                                     [key], {});\n",
              "          if (!dataTable) return;\n",
              "\n",
              "          const docLinkHtml = 'Like what you see? Visit the ' +\n",
              "            '<a target=\"_blank\" href=https://colab.research.google.com/notebooks/data_table.ipynb>data table notebook</a>'\n",
              "            + ' to learn more about interactive tables.';\n",
              "          element.innerHTML = '';\n",
              "          dataTable['output_type'] = 'display_data';\n",
              "          await google.colab.output.renderOutput(dataTable, element);\n",
              "          const docLink = document.createElement('div');\n",
              "          docLink.innerHTML = docLinkHtml;\n",
              "          element.appendChild(docLink);\n",
              "        }\n",
              "      </script>\n",
              "    </div>\n",
              "  </div>\n",
              "  "
            ]
          },
          "metadata": {},
          "execution_count": 4
        }
      ]
    },
    {
      "cell_type": "code",
      "source": [
        "df.shape"
      ],
      "metadata": {
        "id": "WfSrFle4JsA4",
        "outputId": "d271acf2-d6d0-496c-f45f-73248220592e",
        "colab": {
          "base_uri": "https://localhost:8080/"
        }
      },
      "execution_count": 5,
      "outputs": [
        {
          "output_type": "execute_result",
          "data": {
            "text/plain": [
              "(105419, 19)"
            ]
          },
          "metadata": {},
          "execution_count": 5
        }
      ]
    },
    {
      "cell_type": "code",
      "source": [
        "df.info()"
      ],
      "metadata": {
        "colab": {
          "base_uri": "https://localhost:8080/"
        },
        "id": "Tyf3uoOsU1kP",
        "outputId": "57b560ae-2141-4cb1-f691-5452a7e26e21"
      },
      "execution_count": 6,
      "outputs": [
        {
          "output_type": "stream",
          "name": "stdout",
          "text": [
            "<class 'pandas.core.frame.DataFrame'>\n",
            "RangeIndex: 105419 entries, 0 to 105418\n",
            "Data columns (total 19 columns):\n",
            " #   Column                  Non-Null Count   Dtype  \n",
            "---  ------                  --------------   -----  \n",
            " 0   Unnamed: 0              105419 non-null  int64  \n",
            " 1   id                      105419 non-null  int64  \n",
            " 2   customer_id             105416 non-null  float64\n",
            " 3   course_id               100212 non-null  float64\n",
            " 4   type                    105419 non-null  object \n",
            " 5   state                   105419 non-null  object \n",
            " 6   course_title            105403 non-null  object \n",
            " 7   category_title          105395 non-null  object \n",
            " 8   format                  105403 non-null  object \n",
            " 9   completed_at            105419 non-null  object \n",
            " 10  transaction_amount      105419 non-null  int64  \n",
            " 11  coupon_title            31817 non-null   object \n",
            " 12  coupon_discount_amount  31817 non-null   float64\n",
            " 13  sale_price              104291 non-null  float64\n",
            " 14  tax_free_amount         104291 non-null  float64\n",
            " 15  pg                      90344 non-null   object \n",
            " 16  method                  92323 non-null   object \n",
            " 17  subcategory_title       85590 non-null   object \n",
            " 18  marketing_start_at      87440 non-null   object \n",
            "dtypes: float64(5), int64(3), object(11)\n",
            "memory usage: 15.3+ MB\n"
          ]
        }
      ]
    },
    {
      "cell_type": "code",
      "source": [
        "df.isnull().sum()"
      ],
      "metadata": {
        "colab": {
          "base_uri": "https://localhost:8080/"
        },
        "id": "3RL3F9hXQbIO",
        "outputId": "ee4c4285-a1ac-40c4-8ead-a7c33700c23c"
      },
      "execution_count": 7,
      "outputs": [
        {
          "output_type": "execute_result",
          "data": {
            "text/plain": [
              "Unnamed: 0                    0\n",
              "id                            0\n",
              "customer_id                   3\n",
              "course_id                  5207\n",
              "type                          0\n",
              "state                         0\n",
              "course_title                 16\n",
              "category_title               24\n",
              "format                       16\n",
              "completed_at                  0\n",
              "transaction_amount            0\n",
              "coupon_title              73602\n",
              "coupon_discount_amount    73602\n",
              "sale_price                 1128\n",
              "tax_free_amount            1128\n",
              "pg                        15075\n",
              "method                    13096\n",
              "subcategory_title         19829\n",
              "marketing_start_at        17979\n",
              "dtype: int64"
            ]
          },
          "metadata": {},
          "execution_count": 7
        }
      ]
    },
    {
      "cell_type": "code",
      "source": [
        "df['category_title'].value_counts()"
      ],
      "metadata": {
        "colab": {
          "base_uri": "https://localhost:8080/"
        },
        "id": "_gz1fshMD5-3",
        "outputId": "017182a0-235f-48d9-e9ba-c14ec65c053d"
      },
      "execution_count": 8,
      "outputs": [
        {
          "output_type": "execute_result",
          "data": {
            "text/plain": [
              "프로그래밍       34430\n",
              "데이터사이언스     14076\n",
              "업무 생산성      13323\n",
              "디자인         12009\n",
              "영상/3D       10260\n",
              "마케팅          9857\n",
              "부동산/금융       5523\n",
              "투자/재테크       2501\n",
              "크리에이티브       2250\n",
              "교육           1031\n",
              "지식콘텐츠          56\n",
              "비즈니스           42\n",
              "파이낸스           25\n",
              "데이터 사이언스        9\n",
              "관리              2\n",
              "일러스트            1\n",
              "Name: category_title, dtype: int64"
            ]
          },
          "metadata": {},
          "execution_count": 8
        }
      ]
    },
    {
      "cell_type": "code",
      "source": [
        "df['coupon_title'].value_counts()"
      ],
      "metadata": {
        "colab": {
          "base_uri": "https://localhost:8080/"
        },
        "id": "E2JamKhemf-V",
        "outputId": "6300bec1-94e6-4b25-e4c1-a65006bcef1d"
      },
      "execution_count": 9,
      "outputs": [
        {
          "output_type": "execute_result",
          "data": {
            "text/plain": [
              "[웰컴쿠폰] 올인원 패키지 2만원 할인 쿠폰                                 5498\n",
              "[WELCOME] 온라인 강의 3만원 할인쿠폰                                3206\n",
              "[웰컴쿠폰] 올인원 패키지 1만원 할인 쿠폰                                 2469\n",
              "[WELCOME] 온라인 강의 2만원 할인쿠폰                                2325\n",
              "[WELCOME] 온라인 강의 1만원 할인쿠폰                                1900\n",
              "                                                         ... \n",
              "[무료수강권] 한 번에 끝내는 Java/Spring 웹 개발 마스터 초격차 패키지_안성훈 강사님       1\n",
              "오늘 단 하루! 하루 10분컷 5%할인 (~6/2)                                1\n",
              "[무료수강권] RED 검수용_공정필 PM님                                     1\n",
              "[서포터즈 전용] 재무/세무 회계 실무 완성 무료 수강                              1\n",
              "[재결제쿠폰]초격차 패키지 : 한 번에 끝내는 node.js 웹 프로그래밍                   1\n",
              "Name: coupon_title, Length: 494, dtype: int64"
            ]
          },
          "metadata": {},
          "execution_count": 9
        }
      ]
    },
    {
      "cell_type": "code",
      "source": [
        "df['category_title'].replace('데이터 사이언스','데이터사이언스',inplace=True)\n",
        "df['category_title'].value_counts()"
      ],
      "metadata": {
        "colab": {
          "base_uri": "https://localhost:8080/"
        },
        "id": "4Txq8R9VQiOU",
        "outputId": "bcf6dbcb-7666-4b55-cb44-07b0dc9e2c28"
      },
      "execution_count": 10,
      "outputs": [
        {
          "output_type": "execute_result",
          "data": {
            "text/plain": [
              "프로그래밍      34430\n",
              "데이터사이언스    14085\n",
              "업무 생산성     13323\n",
              "디자인        12009\n",
              "영상/3D      10260\n",
              "마케팅         9857\n",
              "부동산/금융      5523\n",
              "투자/재테크      2501\n",
              "크리에이티브      2250\n",
              "교육          1031\n",
              "지식콘텐츠         56\n",
              "비즈니스          42\n",
              "파이낸스          25\n",
              "관리             2\n",
              "일러스트           1\n",
              "Name: category_title, dtype: int64"
            ]
          },
          "metadata": {},
          "execution_count": 10
        }
      ]
    },
    {
      "cell_type": "code",
      "source": [
        "# 강의별 거래 횟수\n",
        "plt.figure(figsize=(20,10))\n",
        "sns.countplot(data=df, x='category_title')"
      ],
      "metadata": {
        "colab": {
          "base_uri": "https://localhost:8080/",
          "height": 624
        },
        "id": "rOCAGqjCTwSg",
        "outputId": "9bed553e-7d93-47d7-b31e-d2eed1cff22d"
      },
      "execution_count": 11,
      "outputs": [
        {
          "output_type": "execute_result",
          "data": {
            "text/plain": [
              "<matplotlib.axes._subplots.AxesSubplot at 0x7f112d3d7f90>"
            ]
          },
          "metadata": {},
          "execution_count": 11
        },
        {
          "output_type": "display_data",
          "data": {
            "text/plain": [
              "<Figure size 1440x720 with 1 Axes>"
            ],
            "image/png": "[encoded data removed]"
          },
          "metadata": {
            "needs_background": "light"
          }
        }
      ]
    },
    {
      "cell_type": "code",
      "source": [
        "# 강의별 거래액\n",
        "plt.figure(figsize=(20,10))\n",
        "sns.barplot(x='category_title',y='transaction_amount', data=df, estimator=np.sum)"
      ],
      "metadata": {
        "colab": {
          "base_uri": "https://localhost:8080/",
          "height": 633
        },
        "id": "4rtK1vpDRLnM",
        "outputId": "29c96738-1433-4ed5-c94e-a16427875b5c"
      },
      "execution_count": 12,
      "outputs": [
        {
          "output_type": "execute_result",
          "data": {
            "text/plain": [
              "<matplotlib.axes._subplots.AxesSubplot at 0x7f112d35ac10>"
            ]
          },
          "metadata": {},
          "execution_count": 12
        },
        {
          "output_type": "display_data",
          "data": {
            "text/plain": [
              "<Figure size 1440x720 with 1 Axes>"
            ],
            "image/png": "[encoded data removed]"
          },
          "metadata": {
            "needs_background": "light"
          }
        }
      ]
    },
    {
      "cell_type": "code",
      "source": [
        "# 강의별 평균 거래액\n",
        "plt.figure(figsize=(20,10))\n",
        "sns.barplot(x='category_title',y='transaction_amount', data=df, estimator=np.mean)"
      ],
      "metadata": {
        "colab": {
          "base_uri": "https://localhost:8080/",
          "height": 633
        },
        "id": "JdbrIyz8Yby6",
        "outputId": "150eda0b-9b6f-42d5-b839-001de9a2e34a"
      },
      "execution_count": 13,
      "outputs": [
        {
          "output_type": "execute_result",
          "data": {
            "text/plain": [
              "<matplotlib.axes._subplots.AxesSubplot at 0x7f112d3e8310>"
            ]
          },
          "metadata": {},
          "execution_count": 13
        },
        {
          "output_type": "display_data",
          "data": {
            "text/plain": [
              "<Figure size 1440x720 with 1 Axes>"
            ],
            "image/png": "[encoded data removed]"
          },
          "metadata": {
            "needs_background": "light"
          }
        }
      ]
    },
    {
      "cell_type": "code",
      "source": [
        "pd.pivot_table(\n",
        "    data=df,\n",
        "    values='transaction_amount',\n",
        "    columns='category_title',\n",
        "    aggfunc=np.mean\n",
        ")"
      ],
      "metadata": {
        "colab": {
          "base_uri": "https://localhost:8080/",
          "height": 145
        },
        "id": "vopPQIA8Vdqt",
        "outputId": "fe3ab55c-798c-4959-9c4e-0870abba5206"
      },
      "execution_count": 14,
      "outputs": [
        {
          "output_type": "execute_result",
          "data": {
            "text/plain": [
              "category_title            관리            교육        데이터사이언스            디자인  \\\n",
              "transaction_amount  150000.0  1.238346e+06  198895.578559  122579.884087   \n",
              "\n",
              "category_title                마케팅         부동산/금융           비즈니스        업무 생산성  \\\n",
              "transaction_amount  151593.587704  171408.674452  274148.095238  90854.526383   \n",
              "\n",
              "category_title              영상/3D      일러스트          지식콘텐츠         크리에이티브  \\\n",
              "transaction_amount  107006.976608  208000.0  228160.714286  368952.678667   \n",
              "\n",
              "category_title             투자/재테크      파이낸스          프로그래밍  \n",
              "transaction_amount  191769.190324  283200.0  109669.452019  "
            ],
            "text/html": [
              "\n",
              "  <div id=\"df-023c0061-9bb6-43d5-af3b-3baba46fef78\">\n",
              "    <div class=\"colab-df-container\">\n",
              "      <div>\n",
              "<style scoped>\n",
              "    .dataframe tbody tr th:only-of-type {\n",
              "        vertical-align: middle;\n",
              "    }\n",
              "\n",
              "    .dataframe tbody tr th {\n",
              "        vertical-align: top;\n",
              "    }\n",
              "\n",
              "    .dataframe thead th {\n",
              "        text-align: right;\n",
              "    }\n",
              "</style>\n",
              "<table border=\"1\" class=\"dataframe\">\n",
              "  <thead>\n",
              "    <tr style=\"text-align: right;\">\n",
              "      <th>category_title</th>\n",
              "      <th>관리</th>\n",
              "      <th>교육</th>\n",
              "      <th>데이터사이언스</th>\n",
              "      <th>디자인</th>\n",
              "      <th>마케팅</th>\n",
              "      <th>부동산/금융</th>\n",
              "      <th>비즈니스</th>\n",
              "      <th>업무 생산성</th>\n",
              "      <th>영상/3D</th>\n",
              "      <th>일러스트</th>\n",
              "      <th>지식콘텐츠</th>\n",
              "      <th>크리에이티브</th>\n",
              "      <th>투자/재테크</th>\n",
              "      <th>파이낸스</th>\n",
              "      <th>프로그래밍</th>\n",
              "    </tr>\n",
              "  </thead>\n",
              "  <tbody>\n",
              "    <tr>\n",
              "      <th>transaction_amount</th>\n",
              "      <td>150000.0</td>\n",
              "      <td>1.238346e+06</td>\n",
              "      <td>198895.578559</td>\n",
              "      <td>122579.884087</td>\n",
              "      <td>151593.587704</td>\n",
              "      <td>171408.674452</td>\n",
              "      <td>274148.095238</td>\n",
              "      <td>90854.526383</td>\n",
              "      <td>107006.976608</td>\n",
              "      <td>208000.0</td>\n",
              "      <td>228160.714286</td>\n",
              "      <td>368952.678667</td>\n",
              "      <td>191769.190324</td>\n",
              "      <td>283200.0</td>\n",
              "      <td>109669.452019</td>\n",
              "    </tr>\n",
              "  </tbody>\n",
              "</table>\n",
              "</div>\n",
              "      <button class=\"colab-df-convert\" onclick=\"convertToInteractive('df-023c0061-9bb6-43d5-af3b-3baba46fef78')\"\n",
              "              title=\"Convert this dataframe to an interactive table.\"\n",
              "              style=\"display:none;\">\n",
              "        \n",
              "  <svg xmlns=\"http://www.w3.org/2000/svg\" height=\"24px\"viewBox=\"0 0 24 24\"\n",
              "       width=\"24px\">\n",
              "    <path d=\"M0 0h24v24H0V0z\" fill=\"none\"/>\n",
              "    <path d=\"M18.56 5.44l.94 2.06.94-2.06 2.06-.94-2.06-.94-.94-2.06-.94 2.06-2.06.94zm-11 1L8.5 8.5l.94-2.06 2.06-.94-2.06-.94L8.5 2.5l-.94 2.06-2.06.94zm10 10l.94 2.06.94-2.06 2.06-.94-2.06-.94-.94-2.06-.94 2.06-2.06.94z\"/><path d=\"M17.41 7.96l-1.37-1.37c-.4-.4-.92-.59-1.43-.59-.52 0-1.04.2-1.43.59L10.3 9.45l-7.72 7.72c-.78.78-.78 2.05 0 2.83L4 21.41c.39.39.9.59 1.41.59.51 0 1.02-.2 1.41-.59l7.78-7.78 2.81-2.81c.8-.78.8-2.07 0-2.86zM5.41 20L4 18.59l7.72-7.72 1.47 1.35L5.41 20z\"/>\n",
              "  </svg>\n",
              "      </button>\n",
              "      \n",
              "  <style>\n",
              "    .colab-df-container {\n",
              "      display:flex;\n",
              "      flex-wrap:wrap;\n",
              "      gap: 12px;\n",
              "    }\n",
              "\n",
              "    .colab-df-convert {\n",
              "      background-color: #E8F0FE;\n",
              "      border: none;\n",
              "      border-radius: 50%;\n",
              "      cursor: pointer;\n",
              "      display: none;\n",
              "      fill: #1967D2;\n",
              "      height: 32px;\n",
              "      padding: 0 0 0 0;\n",
              "      width: 32px;\n",
              "    }\n",
              "\n",
              "    .colab-df-convert:hover {\n",
              "      background-color: #E2EBFA;\n",
              "      box-shadow: 0px 1px 2px rgba(60, 64, 67, 0.3), 0px 1px 3px 1px rgba(60, 64, 67, 0.15);\n",
              "      fill: #174EA6;\n",
              "    }\n",
              "\n",
              "    [theme=dark] .colab-df-convert {\n",
              "      background-color: #3B4455;\n",
              "      fill: #D2E3FC;\n",
              "    }\n",
              "\n",
              "    [theme=dark] .colab-df-convert:hover {\n",
              "      background-color: #434B5C;\n",
              "      box-shadow: 0px 1px 3px 1px rgba(0, 0, 0, 0.15);\n",
              "      filter: drop-shadow(0px 1px 2px rgba(0, 0, 0, 0.3));\n",
              "      fill: #FFFFFF;\n",
              "    }\n",
              "  </style>\n",
              "\n",
              "      <script>\n",
              "        const buttonEl =\n",
              "          document.querySelector('#df-023c0061-9bb6-43d5-af3b-3baba46fef78 button.colab-df-convert');\n",
              "        buttonEl.style.display =\n",
              "          google.colab.kernel.accessAllowed ? 'block' : 'none';\n",
              "\n",
              "        async function convertToInteractive(key) {\n",
              "          const element = document.querySelector('#df-023c0061-9bb6-43d5-af3b-3baba46fef78');\n",
              "          const dataTable =\n",
              "            await google.colab.kernel.invokeFunction('convertToInteractive',\n",
              "                                                     [key], {});\n",
              "          if (!dataTable) return;\n",
              "\n",
              "          const docLinkHtml = 'Like what you see? Visit the ' +\n",
              "            '<a target=\"_blank\" href=https://colab.research.google.com/notebooks/data_table.ipynb>data table notebook</a>'\n",
              "            + ' to learn more about interactive tables.';\n",
              "          element.innerHTML = '';\n",
              "          dataTable['output_type'] = 'display_data';\n",
              "          await google.colab.output.renderOutput(dataTable, element);\n",
              "          const docLink = document.createElement('div');\n",
              "          docLink.innerHTML = docLinkHtml;\n",
              "          element.appendChild(docLink);\n",
              "        }\n",
              "      </script>\n",
              "    </div>\n",
              "  </div>\n",
              "  "
            ]
          },
          "metadata": {},
          "execution_count": 14
        }
      ]
    },
    {
      "cell_type": "code",
      "source": [
        "df[df['category_title']=='교육']"
      ],
      "metadata": {
        "colab": {
          "base_uri": "https://localhost:8080/",
          "height": 870
        },
        "id": "nUYacPV5nmCR",
        "outputId": "a22c761d-bb42-4091-dc5b-facbf69e6744"
      },
      "execution_count": 15,
      "outputs": [
        {
          "output_type": "execute_result",
          "data": {
            "text/plain": [
              "        Unnamed: 0       id  customer_id  course_id     type      state  \\\n",
              "98              98   970949     474219.0   204387.0    ORDER  CANCELLED   \n",
              "110            110   970745     478087.0   204387.0    ORDER  CANCELLED   \n",
              "169            169   971168     478266.0   204387.0    ORDER  CANCELLED   \n",
              "384            384   971672     478457.0   204387.0    ORDER  CANCELLED   \n",
              "631            631   972364     478743.0   204039.0  PAYMENT  COMPLETED   \n",
              "...            ...      ...          ...        ...      ...        ...   \n",
              "104859      104859  1361140     107470.0   207326.0  PAYMENT  CANCELLED   \n",
              "104905      104905  1367252     672301.0   207714.0  PAYMENT  COMPLETED   \n",
              "105163      105163  1367258     672307.0   207731.0  PAYMENT  COMPLETED   \n",
              "105174      105174  1363720      29356.0   207729.0  PAYMENT  CANCELLED   \n",
              "105265      105265  1367259     672308.0   207742.0  PAYMENT  COMPLETED   \n",
              "\n",
              "                                course_title category_title   format  \\\n",
              "98                   (B2B) 현대백화점 온라인 구독 올 플랜             교육  B2B 온라인   \n",
              "110                  (B2B) 현대백화점 온라인 구독 올 플랜             교육  B2B 온라인   \n",
              "169                  (B2B) 현대백화점 온라인 구독 올 플랜             교육  B2B 온라인   \n",
              "384                  (B2B) 현대백화점 온라인 구독 올 플랜             교육  B2B 온라인   \n",
              "631          (B2B) 힐코코리아 온라인 구독 올 플랜 - 패파입주사             교육  B2B 온라인   \n",
              "...                                      ...            ...      ...   \n",
              "104859         (B2B) 한남대학교 2021년 가을학기 온라인 구독             교육  B2B 온라인   \n",
              "104905  (B2B) (주)공정씨컴퍼니 온라인 구독 올 플랜 - 비대면바우처             교육  B2B 온라인   \n",
              "105163      (B2B) 그린오션스 온라인 구독 올 플랜 - 비대면바우처             교육  B2B 온라인   \n",
              "105174       (B2B) 디캠프 패밀리사 온라인 구독 올 플랜 (9월)             교육  B2B 온라인   \n",
              "105265      (B2B) (주)오디 온라인 구독 올 플랜 - 비대면바우처             교육  B2B 온라인   \n",
              "\n",
              "               completed_at  transaction_amount coupon_title  \\\n",
              "98      2021-03-28 18:17:13              600000          NaN   \n",
              "110     2021-03-28 18:35:54              600000          NaN   \n",
              "169     2021-03-28 20:02:19              600000          NaN   \n",
              "384     2021-03-28 22:46:22              600000          NaN   \n",
              "631     2021-03-29 08:52:36              100000          NaN   \n",
              "...                     ...                 ...          ...   \n",
              "104859  2021-09-23 15:57:29              300000          NaN   \n",
              "104905  2021-09-23 17:33:18             2000000          NaN   \n",
              "105163  2021-09-24 14:26:08              600000          NaN   \n",
              "105174  2021-09-24 14:41:04              150000          NaN   \n",
              "105265  2021-09-24 18:17:10              600000          NaN   \n",
              "\n",
              "        coupon_discount_amount  sale_price  tax_free_amount      pg    method  \\\n",
              "98                         NaN    600000.0         600000.0     NaN      CARD   \n",
              "110                        NaN    600000.0         600000.0     NaN      CARD   \n",
              "169                        NaN    600000.0         600000.0     NaN      CARD   \n",
              "384                        NaN    600000.0         600000.0     NaN      CARD   \n",
              "631                        NaN         NaN              NaN     NaN  TRANSFER   \n",
              "...                        ...         ...              ...     ...       ...   \n",
              "104859                     NaN    300000.0         300000.0  INICIS      CARD   \n",
              "104905                     NaN         NaN              NaN     NaN    ONSITE   \n",
              "105163                     NaN         NaN              NaN     NaN    ONSITE   \n",
              "105174                     NaN    150000.0         150000.0  INICIS      CARD   \n",
              "105265                     NaN         NaN              NaN     NaN    ONSITE   \n",
              "\n",
              "       subcategory_title marketing_start_at  \n",
              "98                   NaN                NaN  \n",
              "110                  NaN                NaN  \n",
              "169                  NaN                NaN  \n",
              "384                  NaN                NaN  \n",
              "631                  NaN                NaN  \n",
              "...                  ...                ...  \n",
              "104859               NaN                NaN  \n",
              "104905               NaN                NaN  \n",
              "105163               NaN                NaN  \n",
              "105174               NaN                NaN  \n",
              "105265               NaN                NaN  \n",
              "\n",
              "[1031 rows x 19 columns]"
            ],
            "text/html": [
              "\n",
              "  <div id=\"df-8b8f68b5-e7a5-4b84-8341-06dcc6cefbcf\">\n",
              "    <div class=\"colab-df-container\">\n",
              "      <div>\n",
              "<style scoped>\n",
              "    .dataframe tbody tr th:only-of-type {\n",
              "        vertical-align: middle;\n",
              "    }\n",
              "\n",
              "    .dataframe tbody tr th {\n",
              "        vertical-align: top;\n",
              "    }\n",
              "\n",
              "    .dataframe thead th {\n",
              "        text-align: right;\n",
              "    }\n",
              "</style>\n",
              "<table border=\"1\" class=\"dataframe\">\n",
              "  <thead>\n",
              "    <tr style=\"text-align: right;\">\n",
              "      <th></th>\n",
              "      <th>Unnamed: 0</th>\n",
              "      <th>id</th>\n",
              "      <th>customer_id</th>\n",
              "      <th>course_id</th>\n",
              "      <th>type</th>\n",
              "      <th>state</th>\n",
              "      <th>course_title</th>\n",
              "      <th>category_title</th>\n",
              "      <th>format</th>\n",
              "      <th>completed_at</th>\n",
              "      <th>transaction_amount</th>\n",
              "      <th>coupon_title</th>\n",
              "      <th>coupon_discount_amount</th>\n",
              "      <th>sale_price</th>\n",
              "      <th>tax_free_amount</th>\n",
              "      <th>pg</th>\n",
              "      <th>method</th>\n",
              "      <th>subcategory_title</th>\n",
              "      <th>marketing_start_at</th>\n",
              "    </tr>\n",
              "  </thead>\n",
              "  <tbody>\n",
              "    <tr>\n",
              "      <th>98</th>\n",
              "      <td>98</td>\n",
              "      <td>970949</td>\n",
              "      <td>474219.0</td>\n",
              "      <td>204387.0</td>\n",
              "      <td>ORDER</td>\n",
              "      <td>CANCELLED</td>\n",
              "      <td>(B2B) 현대백화점 온라인 구독 올 플랜</td>\n",
              "      <td>교육</td>\n",
              "      <td>B2B 온라인</td>\n",
              "      <td>2021-03-28 18:17:13</td>\n",
              "      <td>600000</td>\n",
              "      <td>NaN</td>\n",
              "      <td>NaN</td>\n",
              "      <td>600000.0</td>\n",
              "      <td>600000.0</td>\n",
              "      <td>NaN</td>\n",
              "      <td>CARD</td>\n",
              "      <td>NaN</td>\n",
              "      <td>NaN</td>\n",
              "    </tr>\n",
              "    <tr>\n",
              "      <th>110</th>\n",
              "      <td>110</td>\n",
              "      <td>970745</td>\n",
              "      <td>478087.0</td>\n",
              "      <td>204387.0</td>\n",
              "      <td>ORDER</td>\n",
              "      <td>CANCELLED</td>\n",
              "      <td>(B2B) 현대백화점 온라인 구독 올 플랜</td>\n",
              "      <td>교육</td>\n",
              "      <td>B2B 온라인</td>\n",
              "      <td>2021-03-28 18:35:54</td>\n",
              "      <td>600000</td>\n",
              "      <td>NaN</td>\n",
              "      <td>NaN</td>\n",
              "      <td>600000.0</td>\n",
              "      <td>600000.0</td>\n",
              "      <td>NaN</td>\n",
              "      <td>CARD</td>\n",
              "      <td>NaN</td>\n",
              "      <td>NaN</td>\n",
              "    </tr>\n",
              "    <tr>\n",
              "      <th>169</th>\n",
              "      <td>169</td>\n",
              "      <td>971168</td>\n",
              "      <td>478266.0</td>\n",
              "      <td>204387.0</td>\n",
              "      <td>ORDER</td>\n",
              "      <td>CANCELLED</td>\n",
              "      <td>(B2B) 현대백화점 온라인 구독 올 플랜</td>\n",
              "      <td>교육</td>\n",
              "      <td>B2B 온라인</td>\n",
              "      <td>2021-03-28 20:02:19</td>\n",
              "      <td>600000</td>\n",
              "      <td>NaN</td>\n",
              "      <td>NaN</td>\n",
              "      <td>600000.0</td>\n",
              "      <td>600000.0</td>\n",
              "      <td>NaN</td>\n",
              "      <td>CARD</td>\n",
              "      <td>NaN</td>\n",
              "      <td>NaN</td>\n",
              "    </tr>\n",
              "    <tr>\n",
              "      <th>384</th>\n",
              "      <td>384</td>\n",
              "      <td>971672</td>\n",
              "      <td>478457.0</td>\n",
              "      <td>204387.0</td>\n",
              "      <td>ORDER</td>\n",
              "      <td>CANCELLED</td>\n",
              "      <td>(B2B) 현대백화점 온라인 구독 올 플랜</td>\n",
              "      <td>교육</td>\n",
              "      <td>B2B 온라인</td>\n",
              "      <td>2021-03-28 22:46:22</td>\n",
              "      <td>600000</td>\n",
              "      <td>NaN</td>\n",
              "      <td>NaN</td>\n",
              "      <td>600000.0</td>\n",
              "      <td>600000.0</td>\n",
              "      <td>NaN</td>\n",
              "      <td>CARD</td>\n",
              "      <td>NaN</td>\n",
              "      <td>NaN</td>\n",
              "    </tr>\n",
              "    <tr>\n",
              "      <th>631</th>\n",
              "      <td>631</td>\n",
              "      <td>972364</td>\n",
              "      <td>478743.0</td>\n",
              "      <td>204039.0</td>\n",
              "      <td>PAYMENT</td>\n",
              "      <td>COMPLETED</td>\n",
              "      <td>(B2B) 힐코코리아 온라인 구독 올 플랜 - 패파입주사</td>\n",
              "      <td>교육</td>\n",
              "      <td>B2B 온라인</td>\n",
              "      <td>2021-03-29 08:52:36</td>\n",
              "      <td>100000</td>\n",
              "      <td>NaN</td>\n",
              "      <td>NaN</td>\n",
              "      <td>NaN</td>\n",
              "      <td>NaN</td>\n",
              "      <td>NaN</td>\n",
              "      <td>TRANSFER</td>\n",
              "      <td>NaN</td>\n",
              "      <td>NaN</td>\n",
              "    </tr>\n",
              "    <tr>\n",
              "      <th>...</th>\n",
              "      <td>...</td>\n",
              "      <td>...</td>\n",
              "      <td>...</td>\n",
              "      <td>...</td>\n",
              "      <td>...</td>\n",
              "      <td>...</td>\n",
              "      <td>...</td>\n",
              "      <td>...</td>\n",
              "      <td>...</td>\n",
              "      <td>...</td>\n",
              "      <td>...</td>\n",
              "      <td>...</td>\n",
              "      <td>...</td>\n",
              "      <td>...</td>\n",
              "      <td>...</td>\n",
              "      <td>...</td>\n",
              "      <td>...</td>\n",
              "      <td>...</td>\n",
              "      <td>...</td>\n",
              "    </tr>\n",
              "    <tr>\n",
              "      <th>104859</th>\n",
              "      <td>104859</td>\n",
              "      <td>1361140</td>\n",
              "      <td>107470.0</td>\n",
              "      <td>207326.0</td>\n",
              "      <td>PAYMENT</td>\n",
              "      <td>CANCELLED</td>\n",
              "      <td>(B2B) 한남대학교 2021년 가을학기 온라인 구독</td>\n",
              "      <td>교육</td>\n",
              "      <td>B2B 온라인</td>\n",
              "      <td>2021-09-23 15:57:29</td>\n",
              "      <td>300000</td>\n",
              "      <td>NaN</td>\n",
              "      <td>NaN</td>\n",
              "      <td>300000.0</td>\n",
              "      <td>300000.0</td>\n",
              "      <td>INICIS</td>\n",
              "      <td>CARD</td>\n",
              "      <td>NaN</td>\n",
              "      <td>NaN</td>\n",
              "    </tr>\n",
              "    <tr>\n",
              "      <th>104905</th>\n",
              "      <td>104905</td>\n",
              "      <td>1367252</td>\n",
              "      <td>672301.0</td>\n",
              "      <td>207714.0</td>\n",
              "      <td>PAYMENT</td>\n",
              "      <td>COMPLETED</td>\n",
              "      <td>(B2B) (주)공정씨컴퍼니 온라인 구독 올 플랜 - 비대면바우처</td>\n",
              "      <td>교육</td>\n",
              "      <td>B2B 온라인</td>\n",
              "      <td>2021-09-23 17:33:18</td>\n",
              "      <td>2000000</td>\n",
              "      <td>NaN</td>\n",
              "      <td>NaN</td>\n",
              "      <td>NaN</td>\n",
              "      <td>NaN</td>\n",
              "      <td>NaN</td>\n",
              "      <td>ONSITE</td>\n",
              "      <td>NaN</td>\n",
              "      <td>NaN</td>\n",
              "    </tr>\n",
              "    <tr>\n",
              "      <th>105163</th>\n",
              "      <td>105163</td>\n",
              "      <td>1367258</td>\n",
              "      <td>672307.0</td>\n",
              "      <td>207731.0</td>\n",
              "      <td>PAYMENT</td>\n",
              "      <td>COMPLETED</td>\n",
              "      <td>(B2B) 그린오션스 온라인 구독 올 플랜 - 비대면바우처</td>\n",
              "      <td>교육</td>\n",
              "      <td>B2B 온라인</td>\n",
              "      <td>2021-09-24 14:26:08</td>\n",
              "      <td>600000</td>\n",
              "      <td>NaN</td>\n",
              "      <td>NaN</td>\n",
              "      <td>NaN</td>\n",
              "      <td>NaN</td>\n",
              "      <td>NaN</td>\n",
              "      <td>ONSITE</td>\n",
              "      <td>NaN</td>\n",
              "      <td>NaN</td>\n",
              "    </tr>\n",
              "    <tr>\n",
              "      <th>105174</th>\n",
              "      <td>105174</td>\n",
              "      <td>1363720</td>\n",
              "      <td>29356.0</td>\n",
              "      <td>207729.0</td>\n",
              "      <td>PAYMENT</td>\n",
              "      <td>CANCELLED</td>\n",
              "      <td>(B2B) 디캠프 패밀리사 온라인 구독 올 플랜 (9월)</td>\n",
              "      <td>교육</td>\n",
              "      <td>B2B 온라인</td>\n",
              "      <td>2021-09-24 14:41:04</td>\n",
              "      <td>150000</td>\n",
              "      <td>NaN</td>\n",
              "      <td>NaN</td>\n",
              "      <td>150000.0</td>\n",
              "      <td>150000.0</td>\n",
              "      <td>INICIS</td>\n",
              "      <td>CARD</td>\n",
              "      <td>NaN</td>\n",
              "      <td>NaN</td>\n",
              "    </tr>\n",
              "    <tr>\n",
              "      <th>105265</th>\n",
              "      <td>105265</td>\n",
              "      <td>1367259</td>\n",
              "      <td>672308.0</td>\n",
              "      <td>207742.0</td>\n",
              "      <td>PAYMENT</td>\n",
              "      <td>COMPLETED</td>\n",
              "      <td>(B2B) (주)오디 온라인 구독 올 플랜 - 비대면바우처</td>\n",
              "      <td>교육</td>\n",
              "      <td>B2B 온라인</td>\n",
              "      <td>2021-09-24 18:17:10</td>\n",
              "      <td>600000</td>\n",
              "      <td>NaN</td>\n",
              "      <td>NaN</td>\n",
              "      <td>NaN</td>\n",
              "      <td>NaN</td>\n",
              "      <td>NaN</td>\n",
              "      <td>ONSITE</td>\n",
              "      <td>NaN</td>\n",
              "      <td>NaN</td>\n",
              "    </tr>\n",
              "  </tbody>\n",
              "</table>\n",
              "<p>1031 rows × 19 columns</p>\n",
              "</div>\n",
              "      <button class=\"colab-df-convert\" onclick=\"convertToInteractive('df-8b8f68b5-e7a5-4b84-8341-06dcc6cefbcf')\"\n",
              "              title=\"Convert this dataframe to an interactive table.\"\n",
              "              style=\"display:none;\">\n",
              "        \n",
              "  <svg xmlns=\"http://www.w3.org/2000/svg\" height=\"24px\"viewBox=\"0 0 24 24\"\n",
              "       width=\"24px\">\n",
              "    <path d=\"M0 0h24v24H0V0z\" fill=\"none\"/>\n",
              "    <path d=\"M18.56 5.44l.94 2.06.94-2.06 2.06-.94-2.06-.94-.94-2.06-.94 2.06-2.06.94zm-11 1L8.5 8.5l.94-2.06 2.06-.94-2.06-.94L8.5 2.5l-.94 2.06-2.06.94zm10 10l.94 2.06.94-2.06 2.06-.94-2.06-.94-.94-2.06-.94 2.06-2.06.94z\"/><path d=\"M17.41 7.96l-1.37-1.37c-.4-.4-.92-.59-1.43-.59-.52 0-1.04.2-1.43.59L10.3 9.45l-7.72 7.72c-.78.78-.78 2.05 0 2.83L4 21.41c.39.39.9.59 1.41.59.51 0 1.02-.2 1.41-.59l7.78-7.78 2.81-2.81c.8-.78.8-2.07 0-2.86zM5.41 20L4 18.59l7.72-7.72 1.47 1.35L5.41 20z\"/>\n",
              "  </svg>\n",
              "      </button>\n",
              "      \n",
              "  <style>\n",
              "    .colab-df-container {\n",
              "      display:flex;\n",
              "      flex-wrap:wrap;\n",
              "      gap: 12px;\n",
              "    }\n",
              "\n",
              "    .colab-df-convert {\n",
              "      background-color: #E8F0FE;\n",
              "      border: none;\n",
              "      border-radius: 50%;\n",
              "      cursor: pointer;\n",
              "      display: none;\n",
              "      fill: #1967D2;\n",
              "      height: 32px;\n",
              "      padding: 0 0 0 0;\n",
              "      width: 32px;\n",
              "    }\n",
              "\n",
              "    .colab-df-convert:hover {\n",
              "      background-color: #E2EBFA;\n",
              "      box-shadow: 0px 1px 2px rgba(60, 64, 67, 0.3), 0px 1px 3px 1px rgba(60, 64, 67, 0.15);\n",
              "      fill: #174EA6;\n",
              "    }\n",
              "\n",
              "    [theme=dark] .colab-df-convert {\n",
              "      background-color: #3B4455;\n",
              "      fill: #D2E3FC;\n",
              "    }\n",
              "\n",
              "    [theme=dark] .colab-df-convert:hover {\n",
              "      background-color: #434B5C;\n",
              "      box-shadow: 0px 1px 3px 1px rgba(0, 0, 0, 0.15);\n",
              "      filter: drop-shadow(0px 1px 2px rgba(0, 0, 0, 0.3));\n",
              "      fill: #FFFFFF;\n",
              "    }\n",
              "  </style>\n",
              "\n",
              "      <script>\n",
              "        const buttonEl =\n",
              "          document.querySelector('#df-8b8f68b5-e7a5-4b84-8341-06dcc6cefbcf button.colab-df-convert');\n",
              "        buttonEl.style.display =\n",
              "          google.colab.kernel.accessAllowed ? 'block' : 'none';\n",
              "\n",
              "        async function convertToInteractive(key) {\n",
              "          const element = document.querySelector('#df-8b8f68b5-e7a5-4b84-8341-06dcc6cefbcf');\n",
              "          const dataTable =\n",
              "            await google.colab.kernel.invokeFunction('convertToInteractive',\n",
              "                                                     [key], {});\n",
              "          if (!dataTable) return;\n",
              "\n",
              "          const docLinkHtml = 'Like what you see? Visit the ' +\n",
              "            '<a target=\"_blank\" href=https://colab.research.google.com/notebooks/data_table.ipynb>data table notebook</a>'\n",
              "            + ' to learn more about interactive tables.';\n",
              "          element.innerHTML = '';\n",
              "          dataTable['output_type'] = 'display_data';\n",
              "          await google.colab.output.renderOutput(dataTable, element);\n",
              "          const docLink = document.createElement('div');\n",
              "          docLink.innerHTML = docLinkHtml;\n",
              "          element.appendChild(docLink);\n",
              "        }\n",
              "      </script>\n",
              "    </div>\n",
              "  </div>\n",
              "  "
            ]
          },
          "metadata": {},
          "execution_count": 15
        }
      ]
    },
    {
      "cell_type": "code",
      "source": [
        "#교육에 대한 데이터"
      ],
      "metadata": {
        "id": "UHCDpH7tqoAG"
      },
      "execution_count": 16,
      "outputs": []
    },
    {
      "cell_type": "code",
      "source": [
        "df.groupby('category_title').mean()['transaction_amount'].sort_values(ascending=False)"
      ],
      "metadata": {
        "colab": {
          "base_uri": "https://localhost:8080/"
        },
        "id": "29vuduOcUG45",
        "outputId": "d8c3bea2-0dbe-4b6b-e33d-5e6c2f6ba4de"
      },
      "execution_count": 17,
      "outputs": [
        {
          "output_type": "execute_result",
          "data": {
            "text/plain": [
              "category_title\n",
              "교육         1.238346e+06\n",
              "크리에이티브     3.689527e+05\n",
              "파이낸스       2.832000e+05\n",
              "비즈니스       2.741481e+05\n",
              "지식콘텐츠      2.281607e+05\n",
              "일러스트       2.080000e+05\n",
              "데이터사이언스    1.988956e+05\n",
              "투자/재테크     1.917692e+05\n",
              "부동산/금융     1.714087e+05\n",
              "마케팅        1.515936e+05\n",
              "관리         1.500000e+05\n",
              "디자인        1.225799e+05\n",
              "프로그래밍      1.096695e+05\n",
              "영상/3D      1.070070e+05\n",
              "업무 생산성     9.085453e+04\n",
              "Name: transaction_amount, dtype: float64"
            ]
          },
          "metadata": {},
          "execution_count": 17
        }
      ]
    },
    {
      "cell_type": "code",
      "source": [
        "df.head()"
      ],
      "metadata": {
        "colab": {
          "base_uri": "https://localhost:8080/",
          "height": 461
        },
        "id": "1m3G6jf7a4Y3",
        "outputId": "7367114e-4ad6-4d81-acb4-c33bf1426eb9"
      },
      "execution_count": 18,
      "outputs": [
        {
          "output_type": "execute_result",
          "data": {
            "text/plain": [
              "   Unnamed: 0      id  customer_id  course_id     type      state  \\\n",
              "0           0  970634     504760.0   201435.0    ORDER  CANCELLED   \n",
              "1           1  970650     432862.0   203178.0    ORDER  CANCELLED   \n",
              "2           2  970657      72297.0   204246.0  PAYMENT  COMPLETED   \n",
              "3           3  970656      72297.0   204246.0    ORDER  CANCELLED   \n",
              "4           4  970658     478028.0   201797.0  PAYMENT  COMPLETED   \n",
              "\n",
              "                    course_title category_title  format         completed_at  \\\n",
              "0      올인원 패키지 : 알고리즘 기술면접 완전 정복          프로그래밍     올인원  2021-03-28 15:00:11   \n",
              "1    초격차 패키지 : 한번에 끝내는 영상 촬영과 편집          영상/3D     올인원  2021-03-28 15:16:53   \n",
              "2           시크릿코드 : 프론트엔드 실무 완성편          프로그래밍  스쿨 온라인  2021-03-28 15:21:43   \n",
              "3           시크릿코드 : 프론트엔드 실무 완성편          프로그래밍  스쿨 온라인  2021-03-28 15:21:43   \n",
              "4  올인원 패키지 : 직장인 필수 스킬 3종 세트 MAX         업무 생산성     올인원  2021-03-28 15:21:54   \n",
              "\n",
              "   transaction_amount              coupon_title  coupon_discount_amount  \\\n",
              "0               90500                       NaN                     NaN   \n",
              "1               96000                       NaN                     NaN   \n",
              "2              171810     [10% 할인] 시크릿코드 실무 완성편                 19090.0   \n",
              "3              171810                       NaN                     NaN   \n",
              "4               97500  [웰컴쿠폰] 올인원 패키지 2만원 할인 쿠폰                 20000.0   \n",
              "\n",
              "   sale_price  tax_free_amount   pg method subcategory_title  \\\n",
              "0    110500.0         110500.0  NaN  VBANK           개발자 커리어   \n",
              "1    116000.0         116000.0  NaN   CARD             영상 편집   \n",
              "2    190900.0         190900.0  NaN   CARD               NaN   \n",
              "3    190900.0         190900.0  NaN   CARD               NaN   \n",
              "4    117500.0         117500.0  NaN   CARD           PPT/보고서   \n",
              "\n",
              "    marketing_start_at  \n",
              "0                  NaN  \n",
              "1  2020-12-02 00:00:00  \n",
              "2  2021-03-04 00:00:00  \n",
              "3  2021-03-04 00:00:00  \n",
              "4  2019-11-14 00:00:00  "
            ],
            "text/html": [
              "\n",
              "  <div id=\"df-64332d04-3293-406a-82c6-badda8fbb6c1\">\n",
              "    <div class=\"colab-df-container\">\n",
              "      <div>\n",
              "<style scoped>\n",
              "    .dataframe tbody tr th:only-of-type {\n",
              "        vertical-align: middle;\n",
              "    }\n",
              "\n",
              "    .dataframe tbody tr th {\n",
              "        vertical-align: top;\n",
              "    }\n",
              "\n",
              "    .dataframe thead th {\n",
              "        text-align: right;\n",
              "    }\n",
              "</style>\n",
              "<table border=\"1\" class=\"dataframe\">\n",
              "  <thead>\n",
              "    <tr style=\"text-align: right;\">\n",
              "      <th></th>\n",
              "      <th>Unnamed: 0</th>\n",
              "      <th>id</th>\n",
              "      <th>customer_id</th>\n",
              "      <th>course_id</th>\n",
              "      <th>type</th>\n",
              "      <th>state</th>\n",
              "      <th>course_title</th>\n",
              "      <th>category_title</th>\n",
              "      <th>format</th>\n",
              "      <th>completed_at</th>\n",
              "      <th>transaction_amount</th>\n",
              "      <th>coupon_title</th>\n",
              "      <th>coupon_discount_amount</th>\n",
              "      <th>sale_price</th>\n",
              "      <th>tax_free_amount</th>\n",
              "      <th>pg</th>\n",
              "      <th>method</th>\n",
              "      <th>subcategory_title</th>\n",
              "      <th>marketing_start_at</th>\n",
              "    </tr>\n",
              "  </thead>\n",
              "  <tbody>\n",
              "    <tr>\n",
              "      <th>0</th>\n",
              "      <td>0</td>\n",
              "      <td>970634</td>\n",
              "      <td>504760.0</td>\n",
              "      <td>201435.0</td>\n",
              "      <td>ORDER</td>\n",
              "      <td>CANCELLED</td>\n",
              "      <td>올인원 패키지 : 알고리즘 기술면접 완전 정복</td>\n",
              "      <td>프로그래밍</td>\n",
              "      <td>올인원</td>\n",
              "      <td>2021-03-28 15:00:11</td>\n",
              "      <td>90500</td>\n",
              "      <td>NaN</td>\n",
              "      <td>NaN</td>\n",
              "      <td>110500.0</td>\n",
              "      <td>110500.0</td>\n",
              "      <td>NaN</td>\n",
              "      <td>VBANK</td>\n",
              "      <td>개발자 커리어</td>\n",
              "      <td>NaN</td>\n",
              "    </tr>\n",
              "    <tr>\n",
              "      <th>1</th>\n",
              "      <td>1</td>\n",
              "      <td>970650</td>\n",
              "      <td>432862.0</td>\n",
              "      <td>203178.0</td>\n",
              "      <td>ORDER</td>\n",
              "      <td>CANCELLED</td>\n",
              "      <td>초격차 패키지 : 한번에 끝내는 영상 촬영과 편집</td>\n",
              "      <td>영상/3D</td>\n",
              "      <td>올인원</td>\n",
              "      <td>2021-03-28 15:16:53</td>\n",
              "      <td>96000</td>\n",
              "      <td>NaN</td>\n",
              "      <td>NaN</td>\n",
              "      <td>116000.0</td>\n",
              "      <td>116000.0</td>\n",
              "      <td>NaN</td>\n",
              "      <td>CARD</td>\n",
              "      <td>영상 편집</td>\n",
              "      <td>2020-12-02 00:00:00</td>\n",
              "    </tr>\n",
              "    <tr>\n",
              "      <th>2</th>\n",
              "      <td>2</td>\n",
              "      <td>970657</td>\n",
              "      <td>72297.0</td>\n",
              "      <td>204246.0</td>\n",
              "      <td>PAYMENT</td>\n",
              "      <td>COMPLETED</td>\n",
              "      <td>시크릿코드 : 프론트엔드 실무 완성편</td>\n",
              "      <td>프로그래밍</td>\n",
              "      <td>스쿨 온라인</td>\n",
              "      <td>2021-03-28 15:21:43</td>\n",
              "      <td>171810</td>\n",
              "      <td>[10% 할인] 시크릿코드 실무 완성편</td>\n",
              "      <td>19090.0</td>\n",
              "      <td>190900.0</td>\n",
              "      <td>190900.0</td>\n",
              "      <td>NaN</td>\n",
              "      <td>CARD</td>\n",
              "      <td>NaN</td>\n",
              "      <td>2021-03-04 00:00:00</td>\n",
              "    </tr>\n",
              "    <tr>\n",
              "      <th>3</th>\n",
              "      <td>3</td>\n",
              "      <td>970656</td>\n",
              "      <td>72297.0</td>\n",
              "      <td>204246.0</td>\n",
              "      <td>ORDER</td>\n",
              "      <td>CANCELLED</td>\n",
              "      <td>시크릿코드 : 프론트엔드 실무 완성편</td>\n",
              "      <td>프로그래밍</td>\n",
              "      <td>스쿨 온라인</td>\n",
              "      <td>2021-03-28 15:21:43</td>\n",
              "      <td>171810</td>\n",
              "      <td>NaN</td>\n",
              "      <td>NaN</td>\n",
              "      <td>190900.0</td>\n",
              "      <td>190900.0</td>\n",
              "      <td>NaN</td>\n",
              "      <td>CARD</td>\n",
              "      <td>NaN</td>\n",
              "      <td>2021-03-04 00:00:00</td>\n",
              "    </tr>\n",
              "    <tr>\n",
              "      <th>4</th>\n",
              "      <td>4</td>\n",
              "      <td>970658</td>\n",
              "      <td>478028.0</td>\n",
              "      <td>201797.0</td>\n",
              "      <td>PAYMENT</td>\n",
              "      <td>COMPLETED</td>\n",
              "      <td>올인원 패키지 : 직장인 필수 스킬 3종 세트 MAX</td>\n",
              "      <td>업무 생산성</td>\n",
              "      <td>올인원</td>\n",
              "      <td>2021-03-28 15:21:54</td>\n",
              "      <td>97500</td>\n",
              "      <td>[웰컴쿠폰] 올인원 패키지 2만원 할인 쿠폰</td>\n",
              "      <td>20000.0</td>\n",
              "      <td>117500.0</td>\n",
              "      <td>117500.0</td>\n",
              "      <td>NaN</td>\n",
              "      <td>CARD</td>\n",
              "      <td>PPT/보고서</td>\n",
              "      <td>2019-11-14 00:00:00</td>\n",
              "    </tr>\n",
              "  </tbody>\n",
              "</table>\n",
              "</div>\n",
              "      <button class=\"colab-df-convert\" onclick=\"convertToInteractive('df-64332d04-3293-406a-82c6-badda8fbb6c1')\"\n",
              "              title=\"Convert this dataframe to an interactive table.\"\n",
              "              style=\"display:none;\">\n",
              "        \n",
              "  <svg xmlns=\"http://www.w3.org/2000/svg\" height=\"24px\"viewBox=\"0 0 24 24\"\n",
              "       width=\"24px\">\n",
              "    <path d=\"M0 0h24v24H0V0z\" fill=\"none\"/>\n",
              "    <path d=\"M18.56 5.44l.94 2.06.94-2.06 2.06-.94-2.06-.94-.94-2.06-.94 2.06-2.06.94zm-11 1L8.5 8.5l.94-2.06 2.06-.94-2.06-.94L8.5 2.5l-.94 2.06-2.06.94zm10 10l.94 2.06.94-2.06 2.06-.94-2.06-.94-.94-2.06-.94 2.06-2.06.94z\"/><path d=\"M17.41 7.96l-1.37-1.37c-.4-.4-.92-.59-1.43-.59-.52 0-1.04.2-1.43.59L10.3 9.45l-7.72 7.72c-.78.78-.78 2.05 0 2.83L4 21.41c.39.39.9.59 1.41.59.51 0 1.02-.2 1.41-.59l7.78-7.78 2.81-2.81c.8-.78.8-2.07 0-2.86zM5.41 20L4 18.59l7.72-7.72 1.47 1.35L5.41 20z\"/>\n",
              "  </svg>\n",
              "      </button>\n",
              "      \n",
              "  <style>\n",
              "    .colab-df-container {\n",
              "      display:flex;\n",
              "      flex-wrap:wrap;\n",
              "      gap: 12px;\n",
              "    }\n",
              "\n",
              "    .colab-df-convert {\n",
              "      background-color: #E8F0FE;\n",
              "      border: none;\n",
              "      border-radius: 50%;\n",
              "      cursor: pointer;\n",
              "      display: none;\n",
              "      fill: #1967D2;\n",
              "      height: 32px;\n",
              "      padding: 0 0 0 0;\n",
              "      width: 32px;\n",
              "    }\n",
              "\n",
              "    .colab-df-convert:hover {\n",
              "      background-color: #E2EBFA;\n",
              "      box-shadow: 0px 1px 2px rgba(60, 64, 67, 0.3), 0px 1px 3px 1px rgba(60, 64, 67, 0.15);\n",
              "      fill: #174EA6;\n",
              "    }\n",
              "\n",
              "    [theme=dark] .colab-df-convert {\n",
              "      background-color: #3B4455;\n",
              "      fill: #D2E3FC;\n",
              "    }\n",
              "\n",
              "    [theme=dark] .colab-df-convert:hover {\n",
              "      background-color: #434B5C;\n",
              "      box-shadow: 0px 1px 3px 1px rgba(0, 0, 0, 0.15);\n",
              "      filter: drop-shadow(0px 1px 2px rgba(0, 0, 0, 0.3));\n",
              "      fill: #FFFFFF;\n",
              "    }\n",
              "  </style>\n",
              "\n",
              "      <script>\n",
              "        const buttonEl =\n",
              "          document.querySelector('#df-64332d04-3293-406a-82c6-badda8fbb6c1 button.colab-df-convert');\n",
              "        buttonEl.style.display =\n",
              "          google.colab.kernel.accessAllowed ? 'block' : 'none';\n",
              "\n",
              "        async function convertToInteractive(key) {\n",
              "          const element = document.querySelector('#df-64332d04-3293-406a-82c6-badda8fbb6c1');\n",
              "          const dataTable =\n",
              "            await google.colab.kernel.invokeFunction('convertToInteractive',\n",
              "                                                     [key], {});\n",
              "          if (!dataTable) return;\n",
              "\n",
              "          const docLinkHtml = 'Like what you see? Visit the ' +\n",
              "            '<a target=\"_blank\" href=https://colab.research.google.com/notebooks/data_table.ipynb>data table notebook</a>'\n",
              "            + ' to learn more about interactive tables.';\n",
              "          element.innerHTML = '';\n",
              "          dataTable['output_type'] = 'display_data';\n",
              "          await google.colab.output.renderOutput(dataTable, element);\n",
              "          const docLink = document.createElement('div');\n",
              "          docLink.innerHTML = docLinkHtml;\n",
              "          element.appendChild(docLink);\n",
              "        }\n",
              "      </script>\n",
              "    </div>\n",
              "  </div>\n",
              "  "
            ]
          },
          "metadata": {},
          "execution_count": 18
        }
      ]
    },
    {
      "cell_type": "code",
      "source": [
        "# 무조건 전처리 해야 하는 항목들\n",
        "# type & state 컬럼"
      ],
      "metadata": {
        "id": "_Nzh8o66dUis"
      },
      "execution_count": 19,
      "outputs": []
    },
    {
      "cell_type": "code",
      "source": [
        "df['state'].value_counts()"
      ],
      "metadata": {
        "colab": {
          "base_uri": "https://localhost:8080/"
        },
        "id": "bGBB3PcjdJoQ",
        "outputId": "e85af701-26f3-4842-8d7c-d9b29e2730c0"
      },
      "execution_count": 20,
      "outputs": [
        {
          "output_type": "execute_result",
          "data": {
            "text/plain": [
              "COMPLETED    62763\n",
              "CANCELLED    41279\n",
              "PENDING       1144\n",
              "DELETED        219\n",
              "REQUESTED       14\n",
              "Name: state, dtype: int64"
            ]
          },
          "metadata": {},
          "execution_count": 20
        }
      ]
    },
    {
      "cell_type": "code",
      "source": [
        "df.loc[df['customer_id'] == 172881]"
      ],
      "metadata": {
        "colab": {
          "base_uri": "https://localhost:8080/",
          "height": 228
        },
        "id": "u0-tP-1ka-N2",
        "outputId": "2733df1b-efee-43b8-cf98-884ba485e492"
      },
      "execution_count": 21,
      "outputs": [
        {
          "output_type": "execute_result",
          "data": {
            "text/plain": [
              "     Unnamed: 0      id  customer_id  course_id     type      state  \\\n",
              "152         152  971126     172881.0   201998.0    ORDER  CANCELLED   \n",
              "161         161  971156     172881.0   201998.0  PAYMENT    PENDING   \n",
              "\n",
              "           course_title category_title format         completed_at  \\\n",
              "152  올인원 패키지 : iOS 앱 개발          프로그래밍    올인원  2021-03-28 19:48:17   \n",
              "161  올인원 패키지 : iOS 앱 개발          프로그래밍    올인원  2021-03-28 19:55:58   \n",
              "\n",
              "     transaction_amount coupon_title  coupon_discount_amount  sale_price  \\\n",
              "152              110500          NaN                     NaN    110500.0   \n",
              "161              110500          NaN                     NaN    110500.0   \n",
              "\n",
              "     tax_free_amount   pg method subcategory_title   marketing_start_at  \n",
              "152         110500.0  NaN  VBANK              모바일앱  2020-01-14 00:00:00  \n",
              "161         110500.0  NaN  VBANK              모바일앱  2020-01-14 00:00:00  "
            ],
            "text/html": [
              "\n",
              "  <div id=\"df-98e6c4c2-48ac-436d-bd3f-2a9fe937d632\">\n",
              "    <div class=\"colab-df-container\">\n",
              "      <div>\n",
              "<style scoped>\n",
              "    .dataframe tbody tr th:only-of-type {\n",
              "        vertical-align: middle;\n",
              "    }\n",
              "\n",
              "    .dataframe tbody tr th {\n",
              "        vertical-align: top;\n",
              "    }\n",
              "\n",
              "    .dataframe thead th {\n",
              "        text-align: right;\n",
              "    }\n",
              "</style>\n",
              "<table border=\"1\" class=\"dataframe\">\n",
              "  <thead>\n",
              "    <tr style=\"text-align: right;\">\n",
              "      <th></th>\n",
              "      <th>Unnamed: 0</th>\n",
              "      <th>id</th>\n",
              "      <th>customer_id</th>\n",
              "      <th>course_id</th>\n",
              "      <th>type</th>\n",
              "      <th>state</th>\n",
              "      <th>course_title</th>\n",
              "      <th>category_title</th>\n",
              "      <th>format</th>\n",
              "      <th>completed_at</th>\n",
              "      <th>transaction_amount</th>\n",
              "      <th>coupon_title</th>\n",
              "      <th>coupon_discount_amount</th>\n",
              "      <th>sale_price</th>\n",
              "      <th>tax_free_amount</th>\n",
              "      <th>pg</th>\n",
              "      <th>method</th>\n",
              "      <th>subcategory_title</th>\n",
              "      <th>marketing_start_at</th>\n",
              "    </tr>\n",
              "  </thead>\n",
              "  <tbody>\n",
              "    <tr>\n",
              "      <th>152</th>\n",
              "      <td>152</td>\n",
              "      <td>971126</td>\n",
              "      <td>172881.0</td>\n",
              "      <td>201998.0</td>\n",
              "      <td>ORDER</td>\n",
              "      <td>CANCELLED</td>\n",
              "      <td>올인원 패키지 : iOS 앱 개발</td>\n",
              "      <td>프로그래밍</td>\n",
              "      <td>올인원</td>\n",
              "      <td>2021-03-28 19:48:17</td>\n",
              "      <td>110500</td>\n",
              "      <td>NaN</td>\n",
              "      <td>NaN</td>\n",
              "      <td>110500.0</td>\n",
              "      <td>110500.0</td>\n",
              "      <td>NaN</td>\n",
              "      <td>VBANK</td>\n",
              "      <td>모바일앱</td>\n",
              "      <td>2020-01-14 00:00:00</td>\n",
              "    </tr>\n",
              "    <tr>\n",
              "      <th>161</th>\n",
              "      <td>161</td>\n",
              "      <td>971156</td>\n",
              "      <td>172881.0</td>\n",
              "      <td>201998.0</td>\n",
              "      <td>PAYMENT</td>\n",
              "      <td>PENDING</td>\n",
              "      <td>올인원 패키지 : iOS 앱 개발</td>\n",
              "      <td>프로그래밍</td>\n",
              "      <td>올인원</td>\n",
              "      <td>2021-03-28 19:55:58</td>\n",
              "      <td>110500</td>\n",
              "      <td>NaN</td>\n",
              "      <td>NaN</td>\n",
              "      <td>110500.0</td>\n",
              "      <td>110500.0</td>\n",
              "      <td>NaN</td>\n",
              "      <td>VBANK</td>\n",
              "      <td>모바일앱</td>\n",
              "      <td>2020-01-14 00:00:00</td>\n",
              "    </tr>\n",
              "  </tbody>\n",
              "</table>\n",
              "</div>\n",
              "      <button class=\"colab-df-convert\" onclick=\"convertToInteractive('df-98e6c4c2-48ac-436d-bd3f-2a9fe937d632')\"\n",
              "              title=\"Convert this dataframe to an interactive table.\"\n",
              "              style=\"display:none;\">\n",
              "        \n",
              "  <svg xmlns=\"http://www.w3.org/2000/svg\" height=\"24px\"viewBox=\"0 0 24 24\"\n",
              "       width=\"24px\">\n",
              "    <path d=\"M0 0h24v24H0V0z\" fill=\"none\"/>\n",
              "    <path d=\"M18.56 5.44l.94 2.06.94-2.06 2.06-.94-2.06-.94-.94-2.06-.94 2.06-2.06.94zm-11 1L8.5 8.5l.94-2.06 2.06-.94-2.06-.94L8.5 2.5l-.94 2.06-2.06.94zm10 10l.94 2.06.94-2.06 2.06-.94-2.06-.94-.94-2.06-.94 2.06-2.06.94z\"/><path d=\"M17.41 7.96l-1.37-1.37c-.4-.4-.92-.59-1.43-.59-.52 0-1.04.2-1.43.59L10.3 9.45l-7.72 7.72c-.78.78-.78 2.05 0 2.83L4 21.41c.39.39.9.59 1.41.59.51 0 1.02-.2 1.41-.59l7.78-7.78 2.81-2.81c.8-.78.8-2.07 0-2.86zM5.41 20L4 18.59l7.72-7.72 1.47 1.35L5.41 20z\"/>\n",
              "  </svg>\n",
              "      </button>\n",
              "      \n",
              "  <style>\n",
              "    .colab-df-container {\n",
              "      display:flex;\n",
              "      flex-wrap:wrap;\n",
              "      gap: 12px;\n",
              "    }\n",
              "\n",
              "    .colab-df-convert {\n",
              "      background-color: #E8F0FE;\n",
              "      border: none;\n",
              "      border-radius: 50%;\n",
              "      cursor: pointer;\n",
              "      display: none;\n",
              "      fill: #1967D2;\n",
              "      height: 32px;\n",
              "      padding: 0 0 0 0;\n",
              "      width: 32px;\n",
              "    }\n",
              "\n",
              "    .colab-df-convert:hover {\n",
              "      background-color: #E2EBFA;\n",
              "      box-shadow: 0px 1px 2px rgba(60, 64, 67, 0.3), 0px 1px 3px 1px rgba(60, 64, 67, 0.15);\n",
              "      fill: #174EA6;\n",
              "    }\n",
              "\n",
              "    [theme=dark] .colab-df-convert {\n",
              "      background-color: #3B4455;\n",
              "      fill: #D2E3FC;\n",
              "    }\n",
              "\n",
              "    [theme=dark] .colab-df-convert:hover {\n",
              "      background-color: #434B5C;\n",
              "      box-shadow: 0px 1px 3px 1px rgba(0, 0, 0, 0.15);\n",
              "      filter: drop-shadow(0px 1px 2px rgba(0, 0, 0, 0.3));\n",
              "      fill: #FFFFFF;\n",
              "    }\n",
              "  </style>\n",
              "\n",
              "      <script>\n",
              "        const buttonEl =\n",
              "          document.querySelector('#df-98e6c4c2-48ac-436d-bd3f-2a9fe937d632 button.colab-df-convert');\n",
              "        buttonEl.style.display =\n",
              "          google.colab.kernel.accessAllowed ? 'block' : 'none';\n",
              "\n",
              "        async function convertToInteractive(key) {\n",
              "          const element = document.querySelector('#df-98e6c4c2-48ac-436d-bd3f-2a9fe937d632');\n",
              "          const dataTable =\n",
              "            await google.colab.kernel.invokeFunction('convertToInteractive',\n",
              "                                                     [key], {});\n",
              "          if (!dataTable) return;\n",
              "\n",
              "          const docLinkHtml = 'Like what you see? Visit the ' +\n",
              "            '<a target=\"_blank\" href=https://colab.research.google.com/notebooks/data_table.ipynb>data table notebook</a>'\n",
              "            + ' to learn more about interactive tables.';\n",
              "          element.innerHTML = '';\n",
              "          dataTable['output_type'] = 'display_data';\n",
              "          await google.colab.output.renderOutput(dataTable, element);\n",
              "          const docLink = document.createElement('div');\n",
              "          docLink.innerHTML = docLinkHtml;\n",
              "          element.appendChild(docLink);\n",
              "        }\n",
              "      </script>\n",
              "    </div>\n",
              "  </div>\n",
              "  "
            ]
          },
          "metadata": {},
          "execution_count": 21
        }
      ]
    },
    {
      "cell_type": "code",
      "source": [
        "df.loc[df['customer_id'] == 478246]"
      ],
      "metadata": {
        "colab": {
          "base_uri": "https://localhost:8080/",
          "height": 263
        },
        "id": "AS_5IHbYbTu0",
        "outputId": "07db97bb-1af6-4f79-a390-5a3ad535c350"
      },
      "execution_count": 22,
      "outputs": [
        {
          "output_type": "execute_result",
          "data": {
            "text/plain": [
              "     Unnamed: 0      id  customer_id  course_id     type      state  \\\n",
              "157         157  971143     478246.0   203178.0  PAYMENT  COMPLETED   \n",
              "158         158  971130     478246.0   203178.0    ORDER  CANCELLED   \n",
              "\n",
              "                    course_title category_title format         completed_at  \\\n",
              "157  초격차 패키지 : 한번에 끝내는 영상 촬영과 편집          영상/3D    올인원  2021-03-28 19:51:41   \n",
              "158  초격차 패키지 : 한번에 끝내는 영상 촬영과 편집          영상/3D    올인원  2021-03-28 19:51:59   \n",
              "\n",
              "     transaction_amount coupon_title  coupon_discount_amount  sale_price  \\\n",
              "157              116000          NaN                     NaN    116000.0   \n",
              "158              116000          NaN                     NaN    116000.0   \n",
              "\n",
              "     tax_free_amount   pg method subcategory_title   marketing_start_at  \n",
              "157         116000.0  NaN   CARD             영상 편집  2020-12-02 00:00:00  \n",
              "158         116000.0  NaN   CARD             영상 편집  2020-12-02 00:00:00  "
            ],
            "text/html": [
              "\n",
              "  <div id=\"df-b316d65e-98fb-4786-8643-3ba6aa0b1682\">\n",
              "    <div class=\"colab-df-container\">\n",
              "      <div>\n",
              "<style scoped>\n",
              "    .dataframe tbody tr th:only-of-type {\n",
              "        vertical-align: middle;\n",
              "    }\n",
              "\n",
              "    .dataframe tbody tr th {\n",
              "        vertical-align: top;\n",
              "    }\n",
              "\n",
              "    .dataframe thead th {\n",
              "        text-align: right;\n",
              "    }\n",
              "</style>\n",
              "<table border=\"1\" class=\"dataframe\">\n",
              "  <thead>\n",
              "    <tr style=\"text-align: right;\">\n",
              "      <th></th>\n",
              "      <th>Unnamed: 0</th>\n",
              "      <th>id</th>\n",
              "      <th>customer_id</th>\n",
              "      <th>course_id</th>\n",
              "      <th>type</th>\n",
              "      <th>state</th>\n",
              "      <th>course_title</th>\n",
              "      <th>category_title</th>\n",
              "      <th>format</th>\n",
              "      <th>completed_at</th>\n",
              "      <th>transaction_amount</th>\n",
              "      <th>coupon_title</th>\n",
              "      <th>coupon_discount_amount</th>\n",
              "      <th>sale_price</th>\n",
              "      <th>tax_free_amount</th>\n",
              "      <th>pg</th>\n",
              "      <th>method</th>\n",
              "      <th>subcategory_title</th>\n",
              "      <th>marketing_start_at</th>\n",
              "    </tr>\n",
              "  </thead>\n",
              "  <tbody>\n",
              "    <tr>\n",
              "      <th>157</th>\n",
              "      <td>157</td>\n",
              "      <td>971143</td>\n",
              "      <td>478246.0</td>\n",
              "      <td>203178.0</td>\n",
              "      <td>PAYMENT</td>\n",
              "      <td>COMPLETED</td>\n",
              "      <td>초격차 패키지 : 한번에 끝내는 영상 촬영과 편집</td>\n",
              "      <td>영상/3D</td>\n",
              "      <td>올인원</td>\n",
              "      <td>2021-03-28 19:51:41</td>\n",
              "      <td>116000</td>\n",
              "      <td>NaN</td>\n",
              "      <td>NaN</td>\n",
              "      <td>116000.0</td>\n",
              "      <td>116000.0</td>\n",
              "      <td>NaN</td>\n",
              "      <td>CARD</td>\n",
              "      <td>영상 편집</td>\n",
              "      <td>2020-12-02 00:00:00</td>\n",
              "    </tr>\n",
              "    <tr>\n",
              "      <th>158</th>\n",
              "      <td>158</td>\n",
              "      <td>971130</td>\n",
              "      <td>478246.0</td>\n",
              "      <td>203178.0</td>\n",
              "      <td>ORDER</td>\n",
              "      <td>CANCELLED</td>\n",
              "      <td>초격차 패키지 : 한번에 끝내는 영상 촬영과 편집</td>\n",
              "      <td>영상/3D</td>\n",
              "      <td>올인원</td>\n",
              "      <td>2021-03-28 19:51:59</td>\n",
              "      <td>116000</td>\n",
              "      <td>NaN</td>\n",
              "      <td>NaN</td>\n",
              "      <td>116000.0</td>\n",
              "      <td>116000.0</td>\n",
              "      <td>NaN</td>\n",
              "      <td>CARD</td>\n",
              "      <td>영상 편집</td>\n",
              "      <td>2020-12-02 00:00:00</td>\n",
              "    </tr>\n",
              "  </tbody>\n",
              "</table>\n",
              "</div>\n",
              "      <button class=\"colab-df-convert\" onclick=\"convertToInteractive('df-b316d65e-98fb-4786-8643-3ba6aa0b1682')\"\n",
              "              title=\"Convert this dataframe to an interactive table.\"\n",
              "              style=\"display:none;\">\n",
              "        \n",
              "  <svg xmlns=\"http://www.w3.org/2000/svg\" height=\"24px\"viewBox=\"0 0 24 24\"\n",
              "       width=\"24px\">\n",
              "    <path d=\"M0 0h24v24H0V0z\" fill=\"none\"/>\n",
              "    <path d=\"M18.56 5.44l.94 2.06.94-2.06 2.06-.94-2.06-.94-.94-2.06-.94 2.06-2.06.94zm-11 1L8.5 8.5l.94-2.06 2.06-.94-2.06-.94L8.5 2.5l-.94 2.06-2.06.94zm10 10l.94 2.06.94-2.06 2.06-.94-2.06-.94-.94-2.06-.94 2.06-2.06.94z\"/><path d=\"M17.41 7.96l-1.37-1.37c-.4-.4-.92-.59-1.43-.59-.52 0-1.04.2-1.43.59L10.3 9.45l-7.72 7.72c-.78.78-.78 2.05 0 2.83L4 21.41c.39.39.9.59 1.41.59.51 0 1.02-.2 1.41-.59l7.78-7.78 2.81-2.81c.8-.78.8-2.07 0-2.86zM5.41 20L4 18.59l7.72-7.72 1.47 1.35L5.41 20z\"/>\n",
              "  </svg>\n",
              "      </button>\n",
              "      \n",
              "  <style>\n",
              "    .colab-df-container {\n",
              "      display:flex;\n",
              "      flex-wrap:wrap;\n",
              "      gap: 12px;\n",
              "    }\n",
              "\n",
              "    .colab-df-convert {\n",
              "      background-color: #E8F0FE;\n",
              "      border: none;\n",
              "      border-radius: 50%;\n",
              "      cursor: pointer;\n",
              "      display: none;\n",
              "      fill: #1967D2;\n",
              "      height: 32px;\n",
              "      padding: 0 0 0 0;\n",
              "      width: 32px;\n",
              "    }\n",
              "\n",
              "    .colab-df-convert:hover {\n",
              "      background-color: #E2EBFA;\n",
              "      box-shadow: 0px 1px 2px rgba(60, 64, 67, 0.3), 0px 1px 3px 1px rgba(60, 64, 67, 0.15);\n",
              "      fill: #174EA6;\n",
              "    }\n",
              "\n",
              "    [theme=dark] .colab-df-convert {\n",
              "      background-color: #3B4455;\n",
              "      fill: #D2E3FC;\n",
              "    }\n",
              "\n",
              "    [theme=dark] .colab-df-convert:hover {\n",
              "      background-color: #434B5C;\n",
              "      box-shadow: 0px 1px 3px 1px rgba(0, 0, 0, 0.15);\n",
              "      filter: drop-shadow(0px 1px 2px rgba(0, 0, 0, 0.3));\n",
              "      fill: #FFFFFF;\n",
              "    }\n",
              "  </style>\n",
              "\n",
              "      <script>\n",
              "        const buttonEl =\n",
              "          document.querySelector('#df-b316d65e-98fb-4786-8643-3ba6aa0b1682 button.colab-df-convert');\n",
              "        buttonEl.style.display =\n",
              "          google.colab.kernel.accessAllowed ? 'block' : 'none';\n",
              "\n",
              "        async function convertToInteractive(key) {\n",
              "          const element = document.querySelector('#df-b316d65e-98fb-4786-8643-3ba6aa0b1682');\n",
              "          const dataTable =\n",
              "            await google.colab.kernel.invokeFunction('convertToInteractive',\n",
              "                                                     [key], {});\n",
              "          if (!dataTable) return;\n",
              "\n",
              "          const docLinkHtml = 'Like what you see? Visit the ' +\n",
              "            '<a target=\"_blank\" href=https://colab.research.google.com/notebooks/data_table.ipynb>data table notebook</a>'\n",
              "            + ' to learn more about interactive tables.';\n",
              "          element.innerHTML = '';\n",
              "          dataTable['output_type'] = 'display_data';\n",
              "          await google.colab.output.renderOutput(dataTable, element);\n",
              "          const docLink = document.createElement('div');\n",
              "          docLink.innerHTML = docLinkHtml;\n",
              "          element.appendChild(docLink);\n",
              "        }\n",
              "      </script>\n",
              "    </div>\n",
              "  </div>\n",
              "  "
            ]
          },
          "metadata": {},
          "execution_count": 22
        }
      ]
    },
    {
      "cell_type": "code",
      "source": [
        "df_com = df.loc[df['state'] == 'COMPLETED']\n",
        "df_com.count()"
      ],
      "metadata": {
        "colab": {
          "base_uri": "https://localhost:8080/"
        },
        "id": "bOf5U93mccVS",
        "outputId": "35510303-3de5-4c14-b394-0f5695f6eb64"
      },
      "execution_count": 23,
      "outputs": [
        {
          "output_type": "execute_result",
          "data": {
            "text/plain": [
              "Unnamed: 0                62763\n",
              "id                        62763\n",
              "customer_id               62760\n",
              "course_id                 60233\n",
              "type                      62763\n",
              "state                     62763\n",
              "course_title              62759\n",
              "category_title            62755\n",
              "format                    62759\n",
              "completed_at              62763\n",
              "transaction_amount        62763\n",
              "coupon_title              23801\n",
              "coupon_discount_amount    23801\n",
              "sale_price                61680\n",
              "tax_free_amount           61680\n",
              "pg                        52409\n",
              "method                    60194\n",
              "subcategory_title         51804\n",
              "marketing_start_at        51751\n",
              "dtype: int64"
            ]
          },
          "metadata": {},
          "execution_count": 23
        }
      ]
    },
    {
      "cell_type": "markdown",
      "source": [
        "## type 과 state 컬럼 고려한 전처리\n",
        "\n"
      ],
      "metadata": {
        "id": "KucDo_jZMSM1"
      }
    },
    {
      "cell_type": "code",
      "source": [
        "df['type'].value_counts(), df['state'].value_counts()"
      ],
      "metadata": {
        "id": "HF4ueirTNLB7",
        "outputId": "c8a965db-0da0-4e9b-d1b6-4e2afbcbf427",
        "colab": {
          "base_uri": "https://localhost:8080/"
        }
      },
      "execution_count": 24,
      "outputs": [
        {
          "output_type": "execute_result",
          "data": {
            "text/plain": [
              "(PAYMENT        61433\n",
              " ORDER          40159\n",
              " REFUND          3824\n",
              " TRANSACTION        3\n",
              " Name: type, dtype: int64, COMPLETED    62763\n",
              " CANCELLED    41279\n",
              " PENDING       1144\n",
              " DELETED        219\n",
              " REQUESTED       14\n",
              " Name: state, dtype: int64)"
            ]
          },
          "metadata": {},
          "execution_count": 24
        }
      ]
    },
    {
      "cell_type": "markdown",
      "source": [
        "    state = order \n",
        "    옛날에 사용하던 양식으로 불필요한 데이터이기에 \n",
        "    해당 로우 제외한다"
      ],
      "metadata": {
        "id": "V4qHduPhPZCP"
      }
    },
    {
      "cell_type": "code",
      "source": [
        "# state = order 제외\n",
        "df_new = df[df['type'] != 'ORDER']\n",
        "df_new.shape"
      ],
      "metadata": {
        "id": "ZaC-Dc-bNoa4",
        "outputId": "3a61b6fc-d8d1-4267-d818-72c24a87e4c4",
        "colab": {
          "base_uri": "https://localhost:8080/"
        }
      },
      "execution_count": 25,
      "outputs": [
        {
          "output_type": "execute_result",
          "data": {
            "text/plain": [
              "(65260, 19)"
            ]
          },
          "metadata": {},
          "execution_count": 25
        }
      ]
    },
    {
      "cell_type": "code",
      "source": [
        "# df_new['type'].unique()\n",
        "df_new = df[(df['type'] == 'PAYMENT') |(df['type'] == 'REFUND')]"
      ],
      "metadata": {
        "id": "WlZrkt5KiAiC"
      },
      "execution_count": 26,
      "outputs": []
    },
    {
      "cell_type": "code",
      "source": [
        "df_new['type'].unique()"
      ],
      "metadata": {
        "colab": {
          "base_uri": "https://localhost:8080/"
        },
        "id": "mzybM3TtiPbX",
        "outputId": "57302c9f-1819-40bc-8272-63802ef9f1bc"
      },
      "execution_count": 27,
      "outputs": [
        {
          "output_type": "execute_result",
          "data": {
            "text/plain": [
              "array(['PAYMENT', 'REFUND'], dtype=object)"
            ]
          },
          "metadata": {},
          "execution_count": 27
        }
      ]
    },
    {
      "cell_type": "code",
      "source": [
        "df_new =df_new[(df_new['state'] == 'REQUESTED') | (df_new['state'] == 'COMPLETED')]\n",
        "# df_new =df[df['state'] == 'COMPLETED'"
      ],
      "metadata": {
        "id": "ffTO07y2gc4F"
      },
      "execution_count": 28,
      "outputs": []
    },
    {
      "cell_type": "code",
      "source": [
        "df_new['state'].unique()"
      ],
      "metadata": {
        "colab": {
          "base_uri": "https://localhost:8080/"
        },
        "id": "Ej8q6H-_izK7",
        "outputId": "6b39dd9d-94ac-4bd1-86c9-e52fd69c98d6"
      },
      "execution_count": 29,
      "outputs": [
        {
          "output_type": "execute_result",
          "data": {
            "text/plain": [
              "array(['COMPLETED', 'REQUESTED'], dtype=object)"
            ]
          },
          "metadata": {},
          "execution_count": 29
        }
      ]
    },
    {
      "cell_type": "code",
      "source": [
        "df_new['state'].value_counts()"
      ],
      "metadata": {
        "id": "xmuV73V7N-hU",
        "outputId": "fb5e4c97-6b17-4ba3-db34-a8288cec22bb",
        "colab": {
          "base_uri": "https://localhost:8080/"
        }
      },
      "execution_count": 30,
      "outputs": [
        {
          "output_type": "execute_result",
          "data": {
            "text/plain": [
              "COMPLETED    56724\n",
              "REQUESTED       14\n",
              "Name: state, dtype: int64"
            ]
          },
          "metadata": {},
          "execution_count": 30
        }
      ]
    },
    {
      "cell_type": "code",
      "source": [
        ""
      ],
      "metadata": {
        "id": "tXXVDEc0jsQe"
      },
      "execution_count": 30,
      "outputs": []
    },
    {
      "cell_type": "code",
      "source": [
        "df_new = df_new[~((df_new['coupon_discount_amount'] > df_new['sale_price']) & (df_new['transaction_amount'] > 0))]"
      ],
      "metadata": {
        "id": "dSKARWPrjBFD"
      },
      "execution_count": 31,
      "outputs": []
    },
    {
      "cell_type": "code",
      "source": [
        "df_new"
      ],
      "metadata": {
        "colab": {
          "base_uri": "https://localhost:8080/",
          "height": 904
        },
        "id": "xpj49lEqjrdK",
        "outputId": "23f40155-6380-461d-bf40-471b0159da7c"
      },
      "execution_count": 32,
      "outputs": [
        {
          "output_type": "execute_result",
          "data": {
            "text/plain": [
              "        Unnamed: 0       id  customer_id  course_id     type      state  \\\n",
              "2                2   970657      72297.0   204246.0  PAYMENT  COMPLETED   \n",
              "4                4   970658     478028.0   201797.0  PAYMENT  COMPLETED   \n",
              "8                8   970669     478033.0   203178.0  PAYMENT  COMPLETED   \n",
              "10              10   970671     469860.0   203644.0  PAYMENT  COMPLETED   \n",
              "14              14   970676     478035.0   203720.0  PAYMENT  COMPLETED   \n",
              "...            ...      ...          ...        ...      ...        ...   \n",
              "105411      105411  1364969     669238.0   204286.0  PAYMENT  COMPLETED   \n",
              "105412      105412  1364976     384003.0   203178.0  PAYMENT  COMPLETED   \n",
              "105413      105413  1364991     670891.0   203935.0  PAYMENT  COMPLETED   \n",
              "105416      105416  1364996     640697.0   205365.0  PAYMENT  COMPLETED   \n",
              "105418      105418  1365007     610626.0   206720.0  PAYMENT  COMPLETED   \n",
              "\n",
              "                                          course_title category_title  format  \\\n",
              "2                                 시크릿코드 : 프론트엔드 실무 완성편          프로그래밍  스쿨 온라인   \n",
              "4                        올인원 패키지 : 직장인 필수 스킬 3종 세트 MAX         업무 생산성     올인원   \n",
              "8                          초격차 패키지 : 한번에 끝내는 영상 촬영과 편집          영상/3D     올인원   \n",
              "10      올인원 패키지 : 권오상의 금융 아카데미 - 권오상의 재무제표 분석 기초(평생소장)         부동산/금융     올인원   \n",
              "14                         초격차 패키지 : 한 번에 끝내는 프론트엔드 개발          프로그래밍     올인원   \n",
              "...                                                ...            ...     ...   \n",
              "105411                      초격차 패키지 : 한번에 끝내는 3D 디자인 툴            디자인     올인원   \n",
              "105412                     초격차 패키지 : 한번에 끝내는 영상 촬영과 편집          영상/3D     올인원   \n",
              "105413                     초격차 패키지 : 한 번에 끝내는 파이썬 웹 개발          프로그래밍     올인원   \n",
              "105416                 초격차 패키지 : 한 번에 끝내는 유튜브 크리에이터 되기          영상/3D     올인원   \n",
              "105418                              용호수의 돈 버는 실전 영상 제작          영상/3D     올인원   \n",
              "\n",
              "               completed_at  transaction_amount               coupon_title  \\\n",
              "2       2021-03-28 15:21:43              171810      [10% 할인] 시크릿코드 실무 완성편   \n",
              "4       2021-03-28 15:21:54               97500   [웰컴쿠폰] 올인원 패키지 2만원 할인 쿠폰   \n",
              "8       2021-03-28 15:26:47               96000   [웰컴쿠폰] 올인원 패키지 2만원 할인 쿠폰   \n",
              "10      2021-03-28 15:27:17              263000                        NaN   \n",
              "14      2021-03-28 15:31:01               91000   [웰컴쿠폰] 올인원 패키지 2만원 할인 쿠폰   \n",
              "...                     ...                 ...                        ...   \n",
              "105411  2021-09-25 13:39:26              212000    [미래투자금] 온라인 강의 2만원 할인쿠폰   \n",
              "105412  2021-09-25 13:46:29              149000                        NaN   \n",
              "105413  2021-09-25 14:01:26              159000    [미래투자금] 온라인 강의 2만원 할인쿠폰   \n",
              "105416  2021-09-25 14:17:41               96000  [WELCOME] 온라인 강의 2만원 할인쿠폰   \n",
              "105418  2021-09-25 14:25:47              139000  [WELCOME] 온라인 강의 3만원 할인쿠폰   \n",
              "\n",
              "        coupon_discount_amount  sale_price  tax_free_amount      pg method  \\\n",
              "2                      19090.0    190900.0         190900.0     NaN   CARD   \n",
              "4                      20000.0    117500.0         117500.0     NaN   CARD   \n",
              "8                      20000.0    116000.0         116000.0     NaN   CARD   \n",
              "10                         NaN    263000.0         263000.0     NaN   CARD   \n",
              "14                     20000.0    111000.0         111000.0     NaN   CARD   \n",
              "...                        ...         ...              ...     ...    ...   \n",
              "105411                 20000.0    232000.0         232000.0  INICIS   CARD   \n",
              "105412                     NaN    149000.0         149000.0   KAKAO   CARD   \n",
              "105413                 20000.0    179000.0         179000.0  INICIS   CARD   \n",
              "105416                 20000.0    116000.0         116000.0  INICIS  VBANK   \n",
              "105418                 30000.0    169000.0         169000.0   NAVER  POINT   \n",
              "\n",
              "       subcategory_title   marketing_start_at  \n",
              "2                    NaN  2021-03-04 00:00:00  \n",
              "4                PPT/보고서  2019-11-14 00:00:00  \n",
              "8                  영상 편집  2020-12-02 00:00:00  \n",
              "10                   NaN  2020-11-27 00:00:00  \n",
              "14              프론트엔드 개발  2021-02-02 00:00:00  \n",
              "...                  ...                  ...  \n",
              "105411              디자인툴  2021-04-23 00:00:00  \n",
              "105412             영상 편집  2020-12-02 00:00:00  \n",
              "105413            백엔드 개발  2021-05-31 00:00:00  \n",
              "105416             영상 편집  2021-06-15 00:00:00  \n",
              "105418             영상 편집  2021-08-17 00:00:00  \n",
              "\n",
              "[56735 rows x 19 columns]"
            ],
            "text/html": [
              "\n",
              "  <div id=\"df-7fd00c29-0586-40d7-831c-7da12cb12252\">\n",
              "    <div class=\"colab-df-container\">\n",
              "      <div>\n",
              "<style scoped>\n",
              "    .dataframe tbody tr th:only-of-type {\n",
              "        vertical-align: middle;\n",
              "    }\n",
              "\n",
              "    .dataframe tbody tr th {\n",
              "        vertical-align: top;\n",
              "    }\n",
              "\n",
              "    .dataframe thead th {\n",
              "        text-align: right;\n",
              "    }\n",
              "</style>\n",
              "<table border=\"1\" class=\"dataframe\">\n",
              "  <thead>\n",
              "    <tr style=\"text-align: right;\">\n",
              "      <th></th>\n",
              "      <th>Unnamed: 0</th>\n",
              "      <th>id</th>\n",
              "      <th>customer_id</th>\n",
              "      <th>course_id</th>\n",
              "      <th>type</th>\n",
              "      <th>state</th>\n",
              "      <th>course_title</th>\n",
              "      <th>category_title</th>\n",
              "      <th>format</th>\n",
              "      <th>completed_at</th>\n",
              "      <th>transaction_amount</th>\n",
              "      <th>coupon_title</th>\n",
              "      <th>coupon_discount_amount</th>\n",
              "      <th>sale_price</th>\n",
              "      <th>tax_free_amount</th>\n",
              "      <th>pg</th>\n",
              "      <th>method</th>\n",
              "      <th>subcategory_title</th>\n",
              "      <th>marketing_start_at</th>\n",
              "    </tr>\n",
              "  </thead>\n",
              "  <tbody>\n",
              "    <tr>\n",
              "      <th>2</th>\n",
              "      <td>2</td>\n",
              "      <td>970657</td>\n",
              "      <td>72297.0</td>\n",
              "      <td>204246.0</td>\n",
              "      <td>PAYMENT</td>\n",
              "      <td>COMPLETED</td>\n",
              "      <td>시크릿코드 : 프론트엔드 실무 완성편</td>\n",
              "      <td>프로그래밍</td>\n",
              "      <td>스쿨 온라인</td>\n",
              "      <td>2021-03-28 15:21:43</td>\n",
              "      <td>171810</td>\n",
              "      <td>[10% 할인] 시크릿코드 실무 완성편</td>\n",
              "      <td>19090.0</td>\n",
              "      <td>190900.0</td>\n",
              "      <td>190900.0</td>\n",
              "      <td>NaN</td>\n",
              "      <td>CARD</td>\n",
              "      <td>NaN</td>\n",
              "      <td>2021-03-04 00:00:00</td>\n",
              "    </tr>\n",
              "    <tr>\n",
              "      <th>4</th>\n",
              "      <td>4</td>\n",
              "      <td>970658</td>\n",
              "      <td>478028.0</td>\n",
              "      <td>201797.0</td>\n",
              "      <td>PAYMENT</td>\n",
              "      <td>COMPLETED</td>\n",
              "      <td>올인원 패키지 : 직장인 필수 스킬 3종 세트 MAX</td>\n",
              "      <td>업무 생산성</td>\n",
              "      <td>올인원</td>\n",
              "      <td>2021-03-28 15:21:54</td>\n",
              "      <td>97500</td>\n",
              "      <td>[웰컴쿠폰] 올인원 패키지 2만원 할인 쿠폰</td>\n",
              "      <td>20000.0</td>\n",
              "      <td>117500.0</td>\n",
              "      <td>117500.0</td>\n",
              "      <td>NaN</td>\n",
              "      <td>CARD</td>\n",
              "      <td>PPT/보고서</td>\n",
              "      <td>2019-11-14 00:00:00</td>\n",
              "    </tr>\n",
              "    <tr>\n",
              "      <th>8</th>\n",
              "      <td>8</td>\n",
              "      <td>970669</td>\n",
              "      <td>478033.0</td>\n",
              "      <td>203178.0</td>\n",
              "      <td>PAYMENT</td>\n",
              "      <td>COMPLETED</td>\n",
              "      <td>초격차 패키지 : 한번에 끝내는 영상 촬영과 편집</td>\n",
              "      <td>영상/3D</td>\n",
              "      <td>올인원</td>\n",
              "      <td>2021-03-28 15:26:47</td>\n",
              "      <td>96000</td>\n",
              "      <td>[웰컴쿠폰] 올인원 패키지 2만원 할인 쿠폰</td>\n",
              "      <td>20000.0</td>\n",
              "      <td>116000.0</td>\n",
              "      <td>116000.0</td>\n",
              "      <td>NaN</td>\n",
              "      <td>CARD</td>\n",
              "      <td>영상 편집</td>\n",
              "      <td>2020-12-02 00:00:00</td>\n",
              "    </tr>\n",
              "    <tr>\n",
              "      <th>10</th>\n",
              "      <td>10</td>\n",
              "      <td>970671</td>\n",
              "      <td>469860.0</td>\n",
              "      <td>203644.0</td>\n",
              "      <td>PAYMENT</td>\n",
              "      <td>COMPLETED</td>\n",
              "      <td>올인원 패키지 : 권오상의 금융 아카데미 - 권오상의 재무제표 분석 기초(평생소장)</td>\n",
              "      <td>부동산/금융</td>\n",
              "      <td>올인원</td>\n",
              "      <td>2021-03-28 15:27:17</td>\n",
              "      <td>263000</td>\n",
              "      <td>NaN</td>\n",
              "      <td>NaN</td>\n",
              "      <td>263000.0</td>\n",
              "      <td>263000.0</td>\n",
              "      <td>NaN</td>\n",
              "      <td>CARD</td>\n",
              "      <td>NaN</td>\n",
              "      <td>2020-11-27 00:00:00</td>\n",
              "    </tr>\n",
              "    <tr>\n",
              "      <th>14</th>\n",
              "      <td>14</td>\n",
              "      <td>970676</td>\n",
              "      <td>478035.0</td>\n",
              "      <td>203720.0</td>\n",
              "      <td>PAYMENT</td>\n",
              "      <td>COMPLETED</td>\n",
              "      <td>초격차 패키지 : 한 번에 끝내는 프론트엔드 개발</td>\n",
              "      <td>프로그래밍</td>\n",
              "      <td>올인원</td>\n",
              "      <td>2021-03-28 15:31:01</td>\n",
              "      <td>91000</td>\n",
              "      <td>[웰컴쿠폰] 올인원 패키지 2만원 할인 쿠폰</td>\n",
              "      <td>20000.0</td>\n",
              "      <td>111000.0</td>\n",
              "      <td>111000.0</td>\n",
              "      <td>NaN</td>\n",
              "      <td>CARD</td>\n",
              "      <td>프론트엔드 개발</td>\n",
              "      <td>2021-02-02 00:00:00</td>\n",
              "    </tr>\n",
              "    <tr>\n",
              "      <th>...</th>\n",
              "      <td>...</td>\n",
              "      <td>...</td>\n",
              "      <td>...</td>\n",
              "      <td>...</td>\n",
              "      <td>...</td>\n",
              "      <td>...</td>\n",
              "      <td>...</td>\n",
              "      <td>...</td>\n",
              "      <td>...</td>\n",
              "      <td>...</td>\n",
              "      <td>...</td>\n",
              "      <td>...</td>\n",
              "      <td>...</td>\n",
              "      <td>...</td>\n",
              "      <td>...</td>\n",
              "      <td>...</td>\n",
              "      <td>...</td>\n",
              "      <td>...</td>\n",
              "      <td>...</td>\n",
              "    </tr>\n",
              "    <tr>\n",
              "      <th>105411</th>\n",
              "      <td>105411</td>\n",
              "      <td>1364969</td>\n",
              "      <td>669238.0</td>\n",
              "      <td>204286.0</td>\n",
              "      <td>PAYMENT</td>\n",
              "      <td>COMPLETED</td>\n",
              "      <td>초격차 패키지 : 한번에 끝내는 3D 디자인 툴</td>\n",
              "      <td>디자인</td>\n",
              "      <td>올인원</td>\n",
              "      <td>2021-09-25 13:39:26</td>\n",
              "      <td>212000</td>\n",
              "      <td>[미래투자금] 온라인 강의 2만원 할인쿠폰</td>\n",
              "      <td>20000.0</td>\n",
              "      <td>232000.0</td>\n",
              "      <td>232000.0</td>\n",
              "      <td>INICIS</td>\n",
              "      <td>CARD</td>\n",
              "      <td>디자인툴</td>\n",
              "      <td>2021-04-23 00:00:00</td>\n",
              "    </tr>\n",
              "    <tr>\n",
              "      <th>105412</th>\n",
              "      <td>105412</td>\n",
              "      <td>1364976</td>\n",
              "      <td>384003.0</td>\n",
              "      <td>203178.0</td>\n",
              "      <td>PAYMENT</td>\n",
              "      <td>COMPLETED</td>\n",
              "      <td>초격차 패키지 : 한번에 끝내는 영상 촬영과 편집</td>\n",
              "      <td>영상/3D</td>\n",
              "      <td>올인원</td>\n",
              "      <td>2021-09-25 13:46:29</td>\n",
              "      <td>149000</td>\n",
              "      <td>NaN</td>\n",
              "      <td>NaN</td>\n",
              "      <td>149000.0</td>\n",
              "      <td>149000.0</td>\n",
              "      <td>KAKAO</td>\n",
              "      <td>CARD</td>\n",
              "      <td>영상 편집</td>\n",
              "      <td>2020-12-02 00:00:00</td>\n",
              "    </tr>\n",
              "    <tr>\n",
              "      <th>105413</th>\n",
              "      <td>105413</td>\n",
              "      <td>1364991</td>\n",
              "      <td>670891.0</td>\n",
              "      <td>203935.0</td>\n",
              "      <td>PAYMENT</td>\n",
              "      <td>COMPLETED</td>\n",
              "      <td>초격차 패키지 : 한 번에 끝내는 파이썬 웹 개발</td>\n",
              "      <td>프로그래밍</td>\n",
              "      <td>올인원</td>\n",
              "      <td>2021-09-25 14:01:26</td>\n",
              "      <td>159000</td>\n",
              "      <td>[미래투자금] 온라인 강의 2만원 할인쿠폰</td>\n",
              "      <td>20000.0</td>\n",
              "      <td>179000.0</td>\n",
              "      <td>179000.0</td>\n",
              "      <td>INICIS</td>\n",
              "      <td>CARD</td>\n",
              "      <td>백엔드 개발</td>\n",
              "      <td>2021-05-31 00:00:00</td>\n",
              "    </tr>\n",
              "    <tr>\n",
              "      <th>105416</th>\n",
              "      <td>105416</td>\n",
              "      <td>1364996</td>\n",
              "      <td>640697.0</td>\n",
              "      <td>205365.0</td>\n",
              "      <td>PAYMENT</td>\n",
              "      <td>COMPLETED</td>\n",
              "      <td>초격차 패키지 : 한 번에 끝내는 유튜브 크리에이터 되기</td>\n",
              "      <td>영상/3D</td>\n",
              "      <td>올인원</td>\n",
              "      <td>2021-09-25 14:17:41</td>\n",
              "      <td>96000</td>\n",
              "      <td>[WELCOME] 온라인 강의 2만원 할인쿠폰</td>\n",
              "      <td>20000.0</td>\n",
              "      <td>116000.0</td>\n",
              "      <td>116000.0</td>\n",
              "      <td>INICIS</td>\n",
              "      <td>VBANK</td>\n",
              "      <td>영상 편집</td>\n",
              "      <td>2021-06-15 00:00:00</td>\n",
              "    </tr>\n",
              "    <tr>\n",
              "      <th>105418</th>\n",
              "      <td>105418</td>\n",
              "      <td>1365007</td>\n",
              "      <td>610626.0</td>\n",
              "      <td>206720.0</td>\n",
              "      <td>PAYMENT</td>\n",
              "      <td>COMPLETED</td>\n",
              "      <td>용호수의 돈 버는 실전 영상 제작</td>\n",
              "      <td>영상/3D</td>\n",
              "      <td>올인원</td>\n",
              "      <td>2021-09-25 14:25:47</td>\n",
              "      <td>139000</td>\n",
              "      <td>[WELCOME] 온라인 강의 3만원 할인쿠폰</td>\n",
              "      <td>30000.0</td>\n",
              "      <td>169000.0</td>\n",
              "      <td>169000.0</td>\n",
              "      <td>NAVER</td>\n",
              "      <td>POINT</td>\n",
              "      <td>영상 편집</td>\n",
              "      <td>2021-08-17 00:00:00</td>\n",
              "    </tr>\n",
              "  </tbody>\n",
              "</table>\n",
              "<p>56735 rows × 19 columns</p>\n",
              "</div>\n",
              "      <button class=\"colab-df-convert\" onclick=\"convertToInteractive('df-7fd00c29-0586-40d7-831c-7da12cb12252')\"\n",
              "              title=\"Convert this dataframe to an interactive table.\"\n",
              "              style=\"display:none;\">\n",
              "        \n",
              "  <svg xmlns=\"http://www.w3.org/2000/svg\" height=\"24px\"viewBox=\"0 0 24 24\"\n",
              "       width=\"24px\">\n",
              "    <path d=\"M0 0h24v24H0V0z\" fill=\"none\"/>\n",
              "    <path d=\"M18.56 5.44l.94 2.06.94-2.06 2.06-.94-2.06-.94-.94-2.06-.94 2.06-2.06.94zm-11 1L8.5 8.5l.94-2.06 2.06-.94-2.06-.94L8.5 2.5l-.94 2.06-2.06.94zm10 10l.94 2.06.94-2.06 2.06-.94-2.06-.94-.94-2.06-.94 2.06-2.06.94z\"/><path d=\"M17.41 7.96l-1.37-1.37c-.4-.4-.92-.59-1.43-.59-.52 0-1.04.2-1.43.59L10.3 9.45l-7.72 7.72c-.78.78-.78 2.05 0 2.83L4 21.41c.39.39.9.59 1.41.59.51 0 1.02-.2 1.41-.59l7.78-7.78 2.81-2.81c.8-.78.8-2.07 0-2.86zM5.41 20L4 18.59l7.72-7.72 1.47 1.35L5.41 20z\"/>\n",
              "  </svg>\n",
              "      </button>\n",
              "      \n",
              "  <style>\n",
              "    .colab-df-container {\n",
              "      display:flex;\n",
              "      flex-wrap:wrap;\n",
              "      gap: 12px;\n",
              "    }\n",
              "\n",
              "    .colab-df-convert {\n",
              "      background-color: #E8F0FE;\n",
              "      border: none;\n",
              "      border-radius: 50%;\n",
              "      cursor: pointer;\n",
              "      display: none;\n",
              "      fill: #1967D2;\n",
              "      height: 32px;\n",
              "      padding: 0 0 0 0;\n",
              "      width: 32px;\n",
              "    }\n",
              "\n",
              "    .colab-df-convert:hover {\n",
              "      background-color: #E2EBFA;\n",
              "      box-shadow: 0px 1px 2px rgba(60, 64, 67, 0.3), 0px 1px 3px 1px rgba(60, 64, 67, 0.15);\n",
              "      fill: #174EA6;\n",
              "    }\n",
              "\n",
              "    [theme=dark] .colab-df-convert {\n",
              "      background-color: #3B4455;\n",
              "      fill: #D2E3FC;\n",
              "    }\n",
              "\n",
              "    [theme=dark] .colab-df-convert:hover {\n",
              "      background-color: #434B5C;\n",
              "      box-shadow: 0px 1px 3px 1px rgba(0, 0, 0, 0.15);\n",
              "      filter: drop-shadow(0px 1px 2px rgba(0, 0, 0, 0.3));\n",
              "      fill: #FFFFFF;\n",
              "    }\n",
              "  </style>\n",
              "\n",
              "      <script>\n",
              "        const buttonEl =\n",
              "          document.querySelector('#df-7fd00c29-0586-40d7-831c-7da12cb12252 button.colab-df-convert');\n",
              "        buttonEl.style.display =\n",
              "          google.colab.kernel.accessAllowed ? 'block' : 'none';\n",
              "\n",
              "        async function convertToInteractive(key) {\n",
              "          const element = document.querySelector('#df-7fd00c29-0586-40d7-831c-7da12cb12252');\n",
              "          const dataTable =\n",
              "            await google.colab.kernel.invokeFunction('convertToInteractive',\n",
              "                                                     [key], {});\n",
              "          if (!dataTable) return;\n",
              "\n",
              "          const docLinkHtml = 'Like what you see? Visit the ' +\n",
              "            '<a target=\"_blank\" href=https://colab.research.google.com/notebooks/data_table.ipynb>data table notebook</a>'\n",
              "            + ' to learn more about interactive tables.';\n",
              "          element.innerHTML = '';\n",
              "          dataTable['output_type'] = 'display_data';\n",
              "          await google.colab.output.renderOutput(dataTable, element);\n",
              "          const docLink = document.createElement('div');\n",
              "          docLink.innerHTML = docLinkHtml;\n",
              "          element.appendChild(docLink);\n",
              "        }\n",
              "      </script>\n",
              "    </div>\n",
              "  </div>\n",
              "  "
            ]
          },
          "metadata": {},
          "execution_count": 32
        }
      ]
    },
    {
      "cell_type": "markdown",
      "source": [
        "## 카테고리별 매출 및 판매량 추이\n"
      ],
      "metadata": {
        "id": "TaeWSnod5yVY"
      }
    },
    {
      "cell_type": "code",
      "source": [
        "df_new.head()"
      ],
      "metadata": {
        "id": "Jo1RGCgW63br",
        "outputId": "f0f7ec3d-1d0c-4fe7-ba99-be49abca0025",
        "colab": {
          "base_uri": "https://localhost:8080/",
          "height": 496
        }
      },
      "execution_count": 33,
      "outputs": [
        {
          "output_type": "execute_result",
          "data": {
            "text/plain": [
              "    Unnamed: 0      id  customer_id  course_id     type      state  \\\n",
              "2            2  970657      72297.0   204246.0  PAYMENT  COMPLETED   \n",
              "4            4  970658     478028.0   201797.0  PAYMENT  COMPLETED   \n",
              "8            8  970669     478033.0   203178.0  PAYMENT  COMPLETED   \n",
              "10          10  970671     469860.0   203644.0  PAYMENT  COMPLETED   \n",
              "14          14  970676     478035.0   203720.0  PAYMENT  COMPLETED   \n",
              "\n",
              "                                      course_title category_title  format  \\\n",
              "2                             시크릿코드 : 프론트엔드 실무 완성편          프로그래밍  스쿨 온라인   \n",
              "4                    올인원 패키지 : 직장인 필수 스킬 3종 세트 MAX         업무 생산성     올인원   \n",
              "8                      초격차 패키지 : 한번에 끝내는 영상 촬영과 편집          영상/3D     올인원   \n",
              "10  올인원 패키지 : 권오상의 금융 아카데미 - 권오상의 재무제표 분석 기초(평생소장)         부동산/금융     올인원   \n",
              "14                     초격차 패키지 : 한 번에 끝내는 프론트엔드 개발          프로그래밍     올인원   \n",
              "\n",
              "           completed_at  transaction_amount              coupon_title  \\\n",
              "2   2021-03-28 15:21:43              171810     [10% 할인] 시크릿코드 실무 완성편   \n",
              "4   2021-03-28 15:21:54               97500  [웰컴쿠폰] 올인원 패키지 2만원 할인 쿠폰   \n",
              "8   2021-03-28 15:26:47               96000  [웰컴쿠폰] 올인원 패키지 2만원 할인 쿠폰   \n",
              "10  2021-03-28 15:27:17              263000                       NaN   \n",
              "14  2021-03-28 15:31:01               91000  [웰컴쿠폰] 올인원 패키지 2만원 할인 쿠폰   \n",
              "\n",
              "    coupon_discount_amount  sale_price  tax_free_amount   pg method  \\\n",
              "2                  19090.0    190900.0         190900.0  NaN   CARD   \n",
              "4                  20000.0    117500.0         117500.0  NaN   CARD   \n",
              "8                  20000.0    116000.0         116000.0  NaN   CARD   \n",
              "10                     NaN    263000.0         263000.0  NaN   CARD   \n",
              "14                 20000.0    111000.0         111000.0  NaN   CARD   \n",
              "\n",
              "   subcategory_title   marketing_start_at  \n",
              "2                NaN  2021-03-04 00:00:00  \n",
              "4            PPT/보고서  2019-11-14 00:00:00  \n",
              "8              영상 편집  2020-12-02 00:00:00  \n",
              "10               NaN  2020-11-27 00:00:00  \n",
              "14          프론트엔드 개발  2021-02-02 00:00:00  "
            ],
            "text/html": [
              "\n",
              "  <div id=\"df-4329b415-59c0-44b6-9bd0-1f5467efdacf\">\n",
              "    <div class=\"colab-df-container\">\n",
              "      <div>\n",
              "<style scoped>\n",
              "    .dataframe tbody tr th:only-of-type {\n",
              "        vertical-align: middle;\n",
              "    }\n",
              "\n",
              "    .dataframe tbody tr th {\n",
              "        vertical-align: top;\n",
              "    }\n",
              "\n",
              "    .dataframe thead th {\n",
              "        text-align: right;\n",
              "    }\n",
              "</style>\n",
              "<table border=\"1\" class=\"dataframe\">\n",
              "  <thead>\n",
              "    <tr style=\"text-align: right;\">\n",
              "      <th></th>\n",
              "      <th>Unnamed: 0</th>\n",
              "      <th>id</th>\n",
              "      <th>customer_id</th>\n",
              "      <th>course_id</th>\n",
              "      <th>type</th>\n",
              "      <th>state</th>\n",
              "      <th>course_title</th>\n",
              "      <th>category_title</th>\n",
              "      <th>format</th>\n",
              "      <th>completed_at</th>\n",
              "      <th>transaction_amount</th>\n",
              "      <th>coupon_title</th>\n",
              "      <th>coupon_discount_amount</th>\n",
              "      <th>sale_price</th>\n",
              "      <th>tax_free_amount</th>\n",
              "      <th>pg</th>\n",
              "      <th>method</th>\n",
              "      <th>subcategory_title</th>\n",
              "      <th>marketing_start_at</th>\n",
              "    </tr>\n",
              "  </thead>\n",
              "  <tbody>\n",
              "    <tr>\n",
              "      <th>2</th>\n",
              "      <td>2</td>\n",
              "      <td>970657</td>\n",
              "      <td>72297.0</td>\n",
              "      <td>204246.0</td>\n",
              "      <td>PAYMENT</td>\n",
              "      <td>COMPLETED</td>\n",
              "      <td>시크릿코드 : 프론트엔드 실무 완성편</td>\n",
              "      <td>프로그래밍</td>\n",
              "      <td>스쿨 온라인</td>\n",
              "      <td>2021-03-28 15:21:43</td>\n",
              "      <td>171810</td>\n",
              "      <td>[10% 할인] 시크릿코드 실무 완성편</td>\n",
              "      <td>19090.0</td>\n",
              "      <td>190900.0</td>\n",
              "      <td>190900.0</td>\n",
              "      <td>NaN</td>\n",
              "      <td>CARD</td>\n",
              "      <td>NaN</td>\n",
              "      <td>2021-03-04 00:00:00</td>\n",
              "    </tr>\n",
              "    <tr>\n",
              "      <th>4</th>\n",
              "      <td>4</td>\n",
              "      <td>970658</td>\n",
              "      <td>478028.0</td>\n",
              "      <td>201797.0</td>\n",
              "      <td>PAYMENT</td>\n",
              "      <td>COMPLETED</td>\n",
              "      <td>올인원 패키지 : 직장인 필수 스킬 3종 세트 MAX</td>\n",
              "      <td>업무 생산성</td>\n",
              "      <td>올인원</td>\n",
              "      <td>2021-03-28 15:21:54</td>\n",
              "      <td>97500</td>\n",
              "      <td>[웰컴쿠폰] 올인원 패키지 2만원 할인 쿠폰</td>\n",
              "      <td>20000.0</td>\n",
              "      <td>117500.0</td>\n",
              "      <td>117500.0</td>\n",
              "      <td>NaN</td>\n",
              "      <td>CARD</td>\n",
              "      <td>PPT/보고서</td>\n",
              "      <td>2019-11-14 00:00:00</td>\n",
              "    </tr>\n",
              "    <tr>\n",
              "      <th>8</th>\n",
              "      <td>8</td>\n",
              "      <td>970669</td>\n",
              "      <td>478033.0</td>\n",
              "      <td>203178.0</td>\n",
              "      <td>PAYMENT</td>\n",
              "      <td>COMPLETED</td>\n",
              "      <td>초격차 패키지 : 한번에 끝내는 영상 촬영과 편집</td>\n",
              "      <td>영상/3D</td>\n",
              "      <td>올인원</td>\n",
              "      <td>2021-03-28 15:26:47</td>\n",
              "      <td>96000</td>\n",
              "      <td>[웰컴쿠폰] 올인원 패키지 2만원 할인 쿠폰</td>\n",
              "      <td>20000.0</td>\n",
              "      <td>116000.0</td>\n",
              "      <td>116000.0</td>\n",
              "      <td>NaN</td>\n",
              "      <td>CARD</td>\n",
              "      <td>영상 편집</td>\n",
              "      <td>2020-12-02 00:00:00</td>\n",
              "    </tr>\n",
              "    <tr>\n",
              "      <th>10</th>\n",
              "      <td>10</td>\n",
              "      <td>970671</td>\n",
              "      <td>469860.0</td>\n",
              "      <td>203644.0</td>\n",
              "      <td>PAYMENT</td>\n",
              "      <td>COMPLETED</td>\n",
              "      <td>올인원 패키지 : 권오상의 금융 아카데미 - 권오상의 재무제표 분석 기초(평생소장)</td>\n",
              "      <td>부동산/금융</td>\n",
              "      <td>올인원</td>\n",
              "      <td>2021-03-28 15:27:17</td>\n",
              "      <td>263000</td>\n",
              "      <td>NaN</td>\n",
              "      <td>NaN</td>\n",
              "      <td>263000.0</td>\n",
              "      <td>263000.0</td>\n",
              "      <td>NaN</td>\n",
              "      <td>CARD</td>\n",
              "      <td>NaN</td>\n",
              "      <td>2020-11-27 00:00:00</td>\n",
              "    </tr>\n",
              "    <tr>\n",
              "      <th>14</th>\n",
              "      <td>14</td>\n",
              "      <td>970676</td>\n",
              "      <td>478035.0</td>\n",
              "      <td>203720.0</td>\n",
              "      <td>PAYMENT</td>\n",
              "      <td>COMPLETED</td>\n",
              "      <td>초격차 패키지 : 한 번에 끝내는 프론트엔드 개발</td>\n",
              "      <td>프로그래밍</td>\n",
              "      <td>올인원</td>\n",
              "      <td>2021-03-28 15:31:01</td>\n",
              "      <td>91000</td>\n",
              "      <td>[웰컴쿠폰] 올인원 패키지 2만원 할인 쿠폰</td>\n",
              "      <td>20000.0</td>\n",
              "      <td>111000.0</td>\n",
              "      <td>111000.0</td>\n",
              "      <td>NaN</td>\n",
              "      <td>CARD</td>\n",
              "      <td>프론트엔드 개발</td>\n",
              "      <td>2021-02-02 00:00:00</td>\n",
              "    </tr>\n",
              "  </tbody>\n",
              "</table>\n",
              "</div>\n",
              "      <button class=\"colab-df-convert\" onclick=\"convertToInteractive('df-4329b415-59c0-44b6-9bd0-1f5467efdacf')\"\n",
              "              title=\"Convert this dataframe to an interactive table.\"\n",
              "              style=\"display:none;\">\n",
              "        \n",
              "  <svg xmlns=\"http://www.w3.org/2000/svg\" height=\"24px\"viewBox=\"0 0 24 24\"\n",
              "       width=\"24px\">\n",
              "    <path d=\"M0 0h24v24H0V0z\" fill=\"none\"/>\n",
              "    <path d=\"M18.56 5.44l.94 2.06.94-2.06 2.06-.94-2.06-.94-.94-2.06-.94 2.06-2.06.94zm-11 1L8.5 8.5l.94-2.06 2.06-.94-2.06-.94L8.5 2.5l-.94 2.06-2.06.94zm10 10l.94 2.06.94-2.06 2.06-.94-2.06-.94-.94-2.06-.94 2.06-2.06.94z\"/><path d=\"M17.41 7.96l-1.37-1.37c-.4-.4-.92-.59-1.43-.59-.52 0-1.04.2-1.43.59L10.3 9.45l-7.72 7.72c-.78.78-.78 2.05 0 2.83L4 21.41c.39.39.9.59 1.41.59.51 0 1.02-.2 1.41-.59l7.78-7.78 2.81-2.81c.8-.78.8-2.07 0-2.86zM5.41 20L4 18.59l7.72-7.72 1.47 1.35L5.41 20z\"/>\n",
              "  </svg>\n",
              "      </button>\n",
              "      \n",
              "  <style>\n",
              "    .colab-df-container {\n",
              "      display:flex;\n",
              "      flex-wrap:wrap;\n",
              "      gap: 12px;\n",
              "    }\n",
              "\n",
              "    .colab-df-convert {\n",
              "      background-color: #E8F0FE;\n",
              "      border: none;\n",
              "      border-radius: 50%;\n",
              "      cursor: pointer;\n",
              "      display: none;\n",
              "      fill: #1967D2;\n",
              "      height: 32px;\n",
              "      padding: 0 0 0 0;\n",
              "      width: 32px;\n",
              "    }\n",
              "\n",
              "    .colab-df-convert:hover {\n",
              "      background-color: #E2EBFA;\n",
              "      box-shadow: 0px 1px 2px rgba(60, 64, 67, 0.3), 0px 1px 3px 1px rgba(60, 64, 67, 0.15);\n",
              "      fill: #174EA6;\n",
              "    }\n",
              "\n",
              "    [theme=dark] .colab-df-convert {\n",
              "      background-color: #3B4455;\n",
              "      fill: #D2E3FC;\n",
              "    }\n",
              "\n",
              "    [theme=dark] .colab-df-convert:hover {\n",
              "      background-color: #434B5C;\n",
              "      box-shadow: 0px 1px 3px 1px rgba(0, 0, 0, 0.15);\n",
              "      filter: drop-shadow(0px 1px 2px rgba(0, 0, 0, 0.3));\n",
              "      fill: #FFFFFF;\n",
              "    }\n",
              "  </style>\n",
              "\n",
              "      <script>\n",
              "        const buttonEl =\n",
              "          document.querySelector('#df-4329b415-59c0-44b6-9bd0-1f5467efdacf button.colab-df-convert');\n",
              "        buttonEl.style.display =\n",
              "          google.colab.kernel.accessAllowed ? 'block' : 'none';\n",
              "\n",
              "        async function convertToInteractive(key) {\n",
              "          const element = document.querySelector('#df-4329b415-59c0-44b6-9bd0-1f5467efdacf');\n",
              "          const dataTable =\n",
              "            await google.colab.kernel.invokeFunction('convertToInteractive',\n",
              "                                                     [key], {});\n",
              "          if (!dataTable) return;\n",
              "\n",
              "          const docLinkHtml = 'Like what you see? Visit the ' +\n",
              "            '<a target=\"_blank\" href=https://colab.research.google.com/notebooks/data_table.ipynb>data table notebook</a>'\n",
              "            + ' to learn more about interactive tables.';\n",
              "          element.innerHTML = '';\n",
              "          dataTable['output_type'] = 'display_data';\n",
              "          await google.colab.output.renderOutput(dataTable, element);\n",
              "          const docLink = document.createElement('div');\n",
              "          docLink.innerHTML = docLinkHtml;\n",
              "          element.appendChild(docLink);\n",
              "        }\n",
              "      </script>\n",
              "    </div>\n",
              "  </div>\n",
              "  "
            ]
          },
          "metadata": {},
          "execution_count": 33
        }
      ]
    },
    {
      "cell_type": "code",
      "source": [
        "# 강의별 거래 횟수\n",
        "plt.figure(figsize=(20,10))\n",
        "sns.countplot(data=df_new, x='category_title')"
      ],
      "metadata": {
        "id": "TA2xy0LF7HDi",
        "outputId": "e0499e6e-762a-4920-a449-5105587e63a8",
        "colab": {
          "base_uri": "https://localhost:8080/",
          "height": 626
        }
      },
      "execution_count": 34,
      "outputs": [
        {
          "output_type": "execute_result",
          "data": {
            "text/plain": [
              "<matplotlib.axes._subplots.AxesSubplot at 0x7f112ccadb10>"
            ]
          },
          "metadata": {},
          "execution_count": 34
        },
        {
          "output_type": "display_data",
          "data": {
            "text/plain": [
              "<Figure size 1440x720 with 1 Axes>"
            ],
            "image/png": "[encoded data removed]"
          },
          "metadata": {
            "needs_background": "light"
          }
        }
      ]
    },
    {
      "cell_type": "code",
      "source": [
        "# 강의별 거래액\n",
        "plt.figure(figsize=(20,10))\n",
        "sns.barplot(x='category_title',y='transaction_amount', data=df_new, estimator=np.sum)"
      ],
      "metadata": {
        "id": "1ZvDImRi7O51",
        "outputId": "dc14189f-87ed-423f-a291-c7b0e2c3943c",
        "colab": {
          "base_uri": "https://localhost:8080/",
          "height": 633
        }
      },
      "execution_count": 35,
      "outputs": [
        {
          "output_type": "execute_result",
          "data": {
            "text/plain": [
              "<matplotlib.axes._subplots.AxesSubplot at 0x7f112cc27cd0>"
            ]
          },
          "metadata": {},
          "execution_count": 35
        },
        {
          "output_type": "display_data",
          "data": {
            "text/plain": [
              "<Figure size 1440x720 with 1 Axes>"
            ],
            "image/png": "[encoded data removed]"
          },
          "metadata": {
            "needs_background": "light"
          }
        }
      ]
    },
    {
      "cell_type": "code",
      "source": [
        "df_new.info()"
      ],
      "metadata": {
        "id": "01Cl0IGl7Xrj",
        "outputId": "bbfc1179-fc34-4f04-d3d7-a688b628fc57",
        "colab": {
          "base_uri": "https://localhost:8080/"
        }
      },
      "execution_count": 36,
      "outputs": [
        {
          "output_type": "stream",
          "name": "stdout",
          "text": [
            "<class 'pandas.core.frame.DataFrame'>\n",
            "Int64Index: 56735 entries, 2 to 105418\n",
            "Data columns (total 19 columns):\n",
            " #   Column                  Non-Null Count  Dtype  \n",
            "---  ------                  --------------  -----  \n",
            " 0   Unnamed: 0              56735 non-null  int64  \n",
            " 1   id                      56735 non-null  int64  \n",
            " 2   customer_id             56735 non-null  float64\n",
            " 3   course_id               54579 non-null  float64\n",
            " 4   type                    56735 non-null  object \n",
            " 5   state                   56735 non-null  object \n",
            " 6   course_title            56734 non-null  object \n",
            " 7   category_title          56731 non-null  object \n",
            " 8   format                  56734 non-null  object \n",
            " 9   completed_at            56735 non-null  object \n",
            " 10  transaction_amount      56735 non-null  int64  \n",
            " 11  coupon_title            23760 non-null  object \n",
            " 12  coupon_discount_amount  23760 non-null  float64\n",
            " 13  sale_price              55655 non-null  float64\n",
            " 14  tax_free_amount         55655 non-null  float64\n",
            " 15  pg                      46384 non-null  object \n",
            " 16  method                  56731 non-null  object \n",
            " 17  subcategory_title       46428 non-null  object \n",
            " 18  marketing_start_at      46680 non-null  object \n",
            "dtypes: float64(5), int64(3), object(11)\n",
            "memory usage: 10.7+ MB\n"
          ]
        }
      ]
    },
    {
      "cell_type": "code",
      "source": [
        "df_new\n",
        "df_new[df_new['completed_at'].dt.month==9]"
      ],
      "metadata": {
        "id": "LQpPRWH-8ULi",
        "outputId": "9852be73-b53a-4c1f-aaec-c2e5c6b9abd8",
        "colab": {
          "base_uri": "https://localhost:8080/",
          "height": 283
        }
      },
      "execution_count": 37,
      "outputs": [
        {
          "output_type": "error",
          "ename": "AttributeError",
          "evalue": "ignored",
          "traceback": [
            "\u001b[0;31m---------------------------------------------------------------------------\u001b[0m",
            "\u001b[0;31mAttributeError\u001b[0m                            Traceback (most recent call last)",
            "\u001b[0;32m<ipython-input-37-1bae72711b86>\u001b[0m in \u001b[0;36m<module>\u001b[0;34m()\u001b[0m\n\u001b[0;32m----> 1\u001b[0;31m \u001b[0mdf_new\u001b[0m\u001b[0;34m[\u001b[0m\u001b[0mdf_new\u001b[0m\u001b[0;34m[\u001b[0m\u001b[0;34m'completed_at'\u001b[0m\u001b[0;34m]\u001b[0m\u001b[0;34m.\u001b[0m\u001b[0mdt\u001b[0m\u001b[0;34m.\u001b[0m\u001b[0mmonth\u001b[0m\u001b[0;34m==\u001b[0m\u001b[0;36m9\u001b[0m\u001b[0;34m]\u001b[0m\u001b[0;34m\u001b[0m\u001b[0;34m\u001b[0m\u001b[0m\n\u001b[0m",
            "\u001b[0;32m/usr/local/lib/python3.7/dist-packages/pandas/core/generic.py\u001b[0m in \u001b[0;36m__getattr__\u001b[0;34m(self, name)\u001b[0m\n\u001b[1;32m   5485\u001b[0m         ):\n\u001b[1;32m   5486\u001b[0m             \u001b[0;32mreturn\u001b[0m \u001b[0mself\u001b[0m\u001b[0;34m[\u001b[0m\u001b[0mname\u001b[0m\u001b[0;34m]\u001b[0m\u001b[0;34m\u001b[0m\u001b[0;34m\u001b[0m\u001b[0m\n\u001b[0;32m-> 5487\u001b[0;31m         \u001b[0;32mreturn\u001b[0m \u001b[0mobject\u001b[0m\u001b[0;34m.\u001b[0m\u001b[0m__getattribute__\u001b[0m\u001b[0;34m(\u001b[0m\u001b[0mself\u001b[0m\u001b[0;34m,\u001b[0m \u001b[0mname\u001b[0m\u001b[0;34m)\u001b[0m\u001b[0;34m\u001b[0m\u001b[0;34m\u001b[0m\u001b[0m\n\u001b[0m\u001b[1;32m   5488\u001b[0m \u001b[0;34m\u001b[0m\u001b[0m\n\u001b[1;32m   5489\u001b[0m     \u001b[0;32mdef\u001b[0m \u001b[0m__setattr__\u001b[0m\u001b[0;34m(\u001b[0m\u001b[0mself\u001b[0m\u001b[0;34m,\u001b[0m \u001b[0mname\u001b[0m\u001b[0;34m:\u001b[0m \u001b[0mstr\u001b[0m\u001b[0;34m,\u001b[0m \u001b[0mvalue\u001b[0m\u001b[0;34m)\u001b[0m \u001b[0;34m->\u001b[0m \u001b[0;32mNone\u001b[0m\u001b[0;34m:\u001b[0m\u001b[0;34m\u001b[0m\u001b[0;34m\u001b[0m\u001b[0m\n",
            "\u001b[0;32m/usr/local/lib/python3.7/dist-packages/pandas/core/accessor.py\u001b[0m in \u001b[0;36m__get__\u001b[0;34m(self, obj, cls)\u001b[0m\n\u001b[1;32m    179\u001b[0m             \u001b[0;31m# we're accessing the attribute of the class, i.e., Dataset.geo\u001b[0m\u001b[0;34m\u001b[0m\u001b[0;34m\u001b[0m\u001b[0;34m\u001b[0m\u001b[0m\n\u001b[1;32m    180\u001b[0m             \u001b[0;32mreturn\u001b[0m \u001b[0mself\u001b[0m\u001b[0;34m.\u001b[0m\u001b[0m_accessor\u001b[0m\u001b[0;34m\u001b[0m\u001b[0;34m\u001b[0m\u001b[0m\n\u001b[0;32m--> 181\u001b[0;31m         \u001b[0maccessor_obj\u001b[0m \u001b[0;34m=\u001b[0m \u001b[0mself\u001b[0m\u001b[0;34m.\u001b[0m\u001b[0m_accessor\u001b[0m\u001b[0;34m(\u001b[0m\u001b[0mobj\u001b[0m\u001b[0;34m)\u001b[0m\u001b[0;34m\u001b[0m\u001b[0;34m\u001b[0m\u001b[0m\n\u001b[0m\u001b[1;32m    182\u001b[0m         \u001b[0;31m# Replace the property with the accessor object. Inspired by:\u001b[0m\u001b[0;34m\u001b[0m\u001b[0;34m\u001b[0m\u001b[0;34m\u001b[0m\u001b[0m\n\u001b[1;32m    183\u001b[0m         \u001b[0;31m# https://www.pydanny.com/cached-property.html\u001b[0m\u001b[0;34m\u001b[0m\u001b[0;34m\u001b[0m\u001b[0;34m\u001b[0m\u001b[0m\n",
            "\u001b[0;32m/usr/local/lib/python3.7/dist-packages/pandas/core/indexes/accessors.py\u001b[0m in \u001b[0;36m__new__\u001b[0;34m(cls, data)\u001b[0m\n\u001b[1;32m    504\u001b[0m             \u001b[0;32mreturn\u001b[0m \u001b[0mPeriodProperties\u001b[0m\u001b[0;34m(\u001b[0m\u001b[0mdata\u001b[0m\u001b[0;34m,\u001b[0m \u001b[0morig\u001b[0m\u001b[0;34m)\u001b[0m\u001b[0;34m\u001b[0m\u001b[0;34m\u001b[0m\u001b[0m\n\u001b[1;32m    505\u001b[0m \u001b[0;34m\u001b[0m\u001b[0m\n\u001b[0;32m--> 506\u001b[0;31m         \u001b[0;32mraise\u001b[0m \u001b[0mAttributeError\u001b[0m\u001b[0;34m(\u001b[0m\u001b[0;34m\"Can only use .dt accessor with datetimelike values\"\u001b[0m\u001b[0;34m)\u001b[0m\u001b[0;34m\u001b[0m\u001b[0;34m\u001b[0m\u001b[0m\n\u001b[0m",
            "\u001b[0;31mAttributeError\u001b[0m: Can only use .dt accessor with datetimelike values"
          ]
        }
      ]
    },
    {
      "cell_type": "code",
      "source": [
        "# 강의별 거래 횟수\n",
        "plt.figure(figsize=(20,10))\n",
        "sns.countplot(data=df_new, x='category_title')"
      ],
      "metadata": {
        "id": "K58dU3gf9GRt"
      },
      "execution_count": null,
      "outputs": []
    },
    {
      "cell_type": "code",
      "source": [
        "## 달별로 그룹화하기\n",
        "df_new_month = df_new.copy()\n",
        "df_new_month['month'] = [k for k in df_new['completed_at'].dt.month] ## 요일 칼럼\n",
        "df_new_month.tail()"
      ],
      "metadata": {
        "id": "Nv9TxSIE_Imn"
      },
      "execution_count": null,
      "outputs": []
    },
    {
      "cell_type": "code",
      "source": [
        "# 월별 거래 횟수\n",
        "plt.figure(figsize=(20,10))\n",
        "sns.countplot(data=df_new_month, x='month', hue = 'category_title')"
      ],
      "metadata": {
        "id": "E-jcSwydAXlG"
      },
      "execution_count": null,
      "outputs": []
    },
    {
      "cell_type": "code",
      "source": [
        "type(df_new_month['category_title'].unique()[11])\n",
        "category = list(df_new_month['category_title'].unique())\n",
        "category.pop(11)\n",
        "category\n"
      ],
      "metadata": {
        "id": "pZ45uy5JCFFb"
      },
      "execution_count": null,
      "outputs": []
    },
    {
      "cell_type": "code",
      "source": [
        "df_new_month[df_new_month['category_title']=='비즈니스' ].head()"
      ],
      "metadata": {
        "id": "ru4T1fNhDJxB"
      },
      "execution_count": null,
      "outputs": []
    },
    {
      "cell_type": "code",
      "source": [
        "df_new_month['category_title'].unique()"
      ],
      "metadata": {
        "id": "MGvn2J7WTNmP"
      },
      "execution_count": null,
      "outputs": []
    },
    {
      "cell_type": "code",
      "source": [
        "sns.countplot(data = df_new_month[df_new_month['category_title'] == '비즈니스' ], x='month')"
      ],
      "metadata": {
        "id": "MItW-2txS396"
      },
      "execution_count": null,
      "outputs": []
    },
    {
      "cell_type": "code",
      "source": [
        "sns.set(rc={'figure.figsize':(15, 5)})\n",
        "plt.figure(figsize=(20,15))\n",
        "for i in range(len(category)):\n",
        "    if str(df_new_month['category_title'].unique()[i]) == 'nan':\n",
        "        continue\n",
        "    plt.subplot(3,5,i+1)\n",
        "    ax = sns.countplot(data = df_new_month[df_new_month['category_title'] == category[i] ], x='month')\n",
        "    ax.set_title(category[i])\n",
        "plt.figure"
      ],
      "metadata": {
        "id": "4o_hO4c1B8AT"
      },
      "execution_count": null,
      "outputs": []
    },
    {
      "cell_type": "code",
      "source": [
        "sns.countplot(data=df_new_month[df_new_month['category_title']== '프로그래밍' ], x='month')\n",
        "plt.figure"
      ],
      "metadata": {
        "id": "XGH47yV6LwX0"
      },
      "execution_count": null,
      "outputs": []
    },
    {
      "cell_type": "markdown",
      "source": [
        "---------------------------------------------------------\n",
        "\n",
        "---\n",
        "\n"
      ],
      "metadata": {
        "id": "MMr4kW1T97v6"
      }
    },
    {
      "cell_type": "code",
      "source": [
        "df_marketing_st = df_new[(df_new['marketing_start_at'].isnull())]"
      ],
      "metadata": {
        "id": "kd_BY70gkLKh"
      },
      "execution_count": null,
      "outputs": []
    },
    {
      "cell_type": "code",
      "source": [
        "df_new.columns"
      ],
      "metadata": {
        "id": "HCPKLzUDnX8F"
      },
      "execution_count": null,
      "outputs": []
    },
    {
      "cell_type": "code",
      "source": [
        "# sales price / transaction price \n",
        "# coupon price가 없는데, sales price != transaction price 인 경우, 포인트로 사용한 것이다. -> \n",
        "df_new['point_amount'] = df_new[df_new['coupon_discount_amount'].isnull()]['sale_price']-df_new[df_new['coupon_discount_amount'].isnull()]['transaction_amount']"
      ],
      "metadata": {
        "id": "i4XJ3w8IkLIK"
      },
      "execution_count": null,
      "outputs": []
    },
    {
      "cell_type": "code",
      "source": [
        "df_new[~df_new['coupon_discount_amount'].isnull()]"
      ],
      "metadata": {
        "id": "hlWkRlLIo5go"
      },
      "execution_count": null,
      "outputs": []
    },
    {
      "cell_type": "code",
      "source": [
        "# coupon 도 쓰고, point도 쓴 사람이 있나?\n",
        "# coupon_discount_amount + transaction_amount != sale_price\n",
        "df_new[(df_new['coupon_discount_amount']+df_new['transaction_amount'] != df_new['sale_price'])&(df_new['point_amount'].isnull()) & (df_new['coupon_discount_amount'] < df_new['sale_price'])]\n",
        "# coupon_discount_amount가 실제 할인 금액이랑 다른 경우가 존재한다."
      ],
      "metadata": {
        "id": "X6Lg51wQne3N"
      },
      "execution_count": null,
      "outputs": []
    },
    {
      "cell_type": "code",
      "source": [
        ""
      ],
      "metadata": {
        "id": "7TAGeybYkLFC"
      },
      "execution_count": null,
      "outputs": []
    },
    {
      "cell_type": "code",
      "source": [
        ""
      ],
      "metadata": {
        "id": "97fHWVqakLC-"
      },
      "execution_count": null,
      "outputs": []
    },
    {
      "cell_type": "code",
      "source": [
        "df_new[df_new['customer_id'] == 640697]"
      ],
      "metadata": {
        "id": "5OPaI1c4OdhG"
      },
      "execution_count": null,
      "outputs": []
    },
    {
      "cell_type": "code",
      "source": [
        "df_new[df_new['customer_id'] == 670896]\n"
      ],
      "metadata": {
        "id": "3Bzrs0_YO6A-"
      },
      "execution_count": null,
      "outputs": []
    },
    {
      "cell_type": "markdown",
      "source": [
        ""
      ],
      "metadata": {
        "id": "wbX5gezZP_YM"
      }
    },
    {
      "cell_type": "code",
      "source": [
        "# 중복되는 customer_id 존재\n",
        "df_new[df_new.duplicated('customer_id',keep=False)]"
      ],
      "metadata": {
        "id": "2xXKU_MGSbwd"
      },
      "execution_count": null,
      "outputs": []
    },
    {
      "cell_type": "code",
      "source": [
        "df_new['state'] in ['COMPLETED','CANCELLED']"
      ],
      "metadata": {
        "id": "2Phse4-1Te8K"
      },
      "execution_count": null,
      "outputs": []
    },
    {
      "cell_type": "code",
      "source": [
        "df_cancel = df_new.loc[ (df_new['type'] =='PAYMENT') & (df_new['state']=='CANCELLED')]\n",
        "df_cancel.head()"
      ],
      "metadata": {
        "id": "kItD28Z2QOXV"
      },
      "execution_count": null,
      "outputs": []
    },
    {
      "cell_type": "code",
      "source": [
        "df_cancel.isnull().sum()"
      ],
      "metadata": {
        "id": "crhI4PaLQ1jr"
      },
      "execution_count": null,
      "outputs": []
    },
    {
      "cell_type": "markdown",
      "source": [
        "    type = PAYMENT\n",
        "    state = COMPLETED\n",
        "\n",
        "    확실하게 수익으로 잡힐 수 있는 것만 수익 데이터로써 활용한다."
      ],
      "metadata": {
        "id": "2QWJ_QxQNB5Q"
      }
    },
    {
      "cell_type": "code",
      "source": [
        "# 수익 \n",
        "df_rev = df.loc[ (df['type'] =='PAYMENT') & (df['state']=='COMPLETED')]"
      ],
      "metadata": {
        "id": "bILuB0afME5T"
      },
      "execution_count": null,
      "outputs": []
    },
    {
      "cell_type": "code",
      "source": [
        "df_rev.head()"
      ],
      "metadata": {
        "id": "-0oTpktlMF2g"
      },
      "execution_count": null,
      "outputs": []
    },
    {
      "cell_type": "code",
      "source": [
        "df_rev.shape"
      ],
      "metadata": {
        "id": "9tvzUBKaMO57"
      },
      "execution_count": null,
      "outputs": []
    },
    {
      "cell_type": "code",
      "source": [
        ""
      ],
      "metadata": {
        "id": "IM6kQfi6M6XK"
      },
      "execution_count": null,
      "outputs": []
    }
  ]
}